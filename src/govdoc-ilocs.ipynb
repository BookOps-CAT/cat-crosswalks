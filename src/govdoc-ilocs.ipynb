{
 "cells": [
  {
   "cell_type": "code",
   "execution_count": 1,
   "id": "766dbe7e-fa7f-4612-8532-95dbd8b04712",
   "metadata": {},
   "outputs": [],
   "source": [
    "import pandas as pd"
   ]
  },
  {
   "cell_type": "code",
   "execution_count": 6,
   "id": "1d5e88a7-87e6-4c99-9343-cced75ca8e7e",
   "metadata": {},
   "outputs": [],
   "source": [
    "fh = \"files/GovDocs/MARCIVE-Sierra-dump-20241216.txt\""
   ]
  },
  {
   "cell_type": "code",
   "execution_count": 7,
   "id": "f7ba82a0-234e-4455-966e-eae88acfaf23",
   "metadata": {},
   "outputs": [],
   "source": [
    "df = pd.read_csv(fh, names=[\"001\", \"003\", \"035$a\", \"049$a\", \"907$a\", \"910$a\", \"991$y\", \"998$a\", \"998$d\", \"998$c\"], delimiter=\"\\t\", low_memory=False)"
   ]
  },
  {
   "cell_type": "code",
   "execution_count": 8,
   "id": "d084b8da-b0fa-4b54-a22d-8570f048bbd2",
   "metadata": {},
   "outputs": [],
   "source": [
    "df[\"blocs\"] = df[\"998$a\"].str.replace(r\"\\(\\d{1,2}\\)\", \"\", regex=True)"
   ]
  },
  {
   "cell_type": "code",
   "execution_count": 9,
   "id": "f150c533-329e-4b18-8ab9-4a4c2e565c70",
   "metadata": {},
   "outputs": [
    {
     "data": {
      "text/html": [
       "<div>\n",
       "<style scoped>\n",
       "    .dataframe tbody tr th:only-of-type {\n",
       "        vertical-align: middle;\n",
       "    }\n",
       "\n",
       "    .dataframe tbody tr th {\n",
       "        vertical-align: top;\n",
       "    }\n",
       "\n",
       "    .dataframe thead th {\n",
       "        text-align: right;\n",
       "    }\n",
       "</style>\n",
       "<table border=\"1\" class=\"dataframe\">\n",
       "  <thead>\n",
       "    <tr style=\"text-align: right;\">\n",
       "      <th></th>\n",
       "      <th>001</th>\n",
       "      <th>003</th>\n",
       "      <th>035$a</th>\n",
       "      <th>049$a</th>\n",
       "      <th>907$a</th>\n",
       "      <th>910$a</th>\n",
       "      <th>991$y</th>\n",
       "      <th>998$a</th>\n",
       "      <th>998$d</th>\n",
       "      <th>998$c</th>\n",
       "      <th>blocs</th>\n",
       "    </tr>\n",
       "  </thead>\n",
       "  <tbody>\n",
       "    <tr>\n",
       "      <th>0</th>\n",
       "      <td>001</td>\n",
       "      <td>003</td>\n",
       "      <td>035$a</td>\n",
       "      <td>049$a</td>\n",
       "      <td>907$a</td>\n",
       "      <td>910$a</td>\n",
       "      <td>991$y</td>\n",
       "      <td>998$a</td>\n",
       "      <td>998$d</td>\n",
       "      <td>998$c</td>\n",
       "      <td>998$a</td>\n",
       "    </tr>\n",
       "    <tr>\n",
       "      <th>1</th>\n",
       "      <td>marcive778074564</td>\n",
       "      <td>OCoLC</td>\n",
       "      <td>NaN</td>\n",
       "      <td>NYPS</td>\n",
       "      <td>.b195973367</td>\n",
       "      <td>BL</td>\n",
       "      <td>NaN</td>\n",
       "      <td>ia</td>\n",
       "      <td>w</td>\n",
       "      <td>s</td>\n",
       "      <td>ia</td>\n",
       "    </tr>\n",
       "    <tr>\n",
       "      <th>2</th>\n",
       "      <td>marcive778075920</td>\n",
       "      <td>OCoLC</td>\n",
       "      <td>NaN</td>\n",
       "      <td>NYPS</td>\n",
       "      <td>.b195973379</td>\n",
       "      <td>BL</td>\n",
       "      <td>NaN</td>\n",
       "      <td>ia</td>\n",
       "      <td>w</td>\n",
       "      <td>s</td>\n",
       "      <td>ia</td>\n",
       "    </tr>\n",
       "    <tr>\n",
       "      <th>3</th>\n",
       "      <td>marcive778076212</td>\n",
       "      <td>OCoLC</td>\n",
       "      <td>NaN</td>\n",
       "      <td>NYPS</td>\n",
       "      <td>.b195973380</td>\n",
       "      <td>BL</td>\n",
       "      <td>NaN</td>\n",
       "      <td>ia</td>\n",
       "      <td>w</td>\n",
       "      <td>m</td>\n",
       "      <td>ia</td>\n",
       "    </tr>\n",
       "    <tr>\n",
       "      <th>4</th>\n",
       "      <td>marcive778076307</td>\n",
       "      <td>OCoLC</td>\n",
       "      <td>NaN</td>\n",
       "      <td>NYPS</td>\n",
       "      <td>.b195973392</td>\n",
       "      <td>BL</td>\n",
       "      <td>NaN</td>\n",
       "      <td>ia</td>\n",
       "      <td>w</td>\n",
       "      <td>m</td>\n",
       "      <td>ia</td>\n",
       "    </tr>\n",
       "  </tbody>\n",
       "</table>\n",
       "</div>"
      ],
      "text/plain": [
       "                001    003  035$a  049$a        907$a  910$a  991$y  998$a  \\\n",
       "0               001    003  035$a  049$a        907$a  910$a  991$y  998$a   \n",
       "1  marcive778074564  OCoLC    NaN   NYPS  .b195973367     BL    NaN     ia   \n",
       "2  marcive778075920  OCoLC    NaN   NYPS  .b195973379     BL    NaN     ia   \n",
       "3  marcive778076212  OCoLC    NaN   NYPS  .b195973380     BL    NaN     ia   \n",
       "4  marcive778076307  OCoLC    NaN   NYPS  .b195973392     BL    NaN     ia   \n",
       "\n",
       "   998$d  998$c  blocs  \n",
       "0  998$d  998$c  998$a  \n",
       "1    w        s     ia  \n",
       "2    w        s     ia  \n",
       "3    w        m     ia  \n",
       "4    w        m     ia  "
      ]
     },
     "execution_count": 9,
     "metadata": {},
     "output_type": "execute_result"
    }
   ],
   "source": [
    "df.head()"
   ]
  },
  {
   "cell_type": "code",
   "execution_count": 10,
   "id": "54fcb339-c28b-40a5-b1b5-f7ec70b8be19",
   "metadata": {},
   "outputs": [],
   "source": [
    "df.to_csv(\"files/GovDocs/public/blocks.csv\", index=False, columns=[\"blocs\"])"
   ]
  },
  {
   "cell_type": "code",
   "execution_count": 11,
   "id": "a21731fc-f50c-4209-95f6-ae07a01920ff",
   "metadata": {},
   "outputs": [],
   "source": [
    "block = df[\"blocs\"].str.split(pat=\"@\", expand=True)"
   ]
  },
  {
   "cell_type": "code",
   "execution_count": 12,
   "id": "d7b1e6d6-f9aa-4cf7-8449-c2b5bb7f94e5",
   "metadata": {},
   "outputs": [
    {
     "data": {
      "text/html": [
       "<div>\n",
       "<style scoped>\n",
       "    .dataframe tbody tr th:only-of-type {\n",
       "        vertical-align: middle;\n",
       "    }\n",
       "\n",
       "    .dataframe tbody tr th {\n",
       "        vertical-align: top;\n",
       "    }\n",
       "\n",
       "    .dataframe thead th {\n",
       "        text-align: right;\n",
       "    }\n",
       "</style>\n",
       "<table border=\"1\" class=\"dataframe\">\n",
       "  <thead>\n",
       "    <tr style=\"text-align: right;\">\n",
       "      <th></th>\n",
       "      <th>0</th>\n",
       "      <th>1</th>\n",
       "      <th>2</th>\n",
       "      <th>3</th>\n",
       "    </tr>\n",
       "  </thead>\n",
       "  <tbody>\n",
       "    <tr>\n",
       "      <th>0</th>\n",
       "      <td>998$a</td>\n",
       "      <td>None</td>\n",
       "      <td>None</td>\n",
       "      <td>None</td>\n",
       "    </tr>\n",
       "    <tr>\n",
       "      <th>1</th>\n",
       "      <td>ia</td>\n",
       "      <td>None</td>\n",
       "      <td>None</td>\n",
       "      <td>None</td>\n",
       "    </tr>\n",
       "    <tr>\n",
       "      <th>2</th>\n",
       "      <td>ia</td>\n",
       "      <td>None</td>\n",
       "      <td>None</td>\n",
       "      <td>None</td>\n",
       "    </tr>\n",
       "    <tr>\n",
       "      <th>3</th>\n",
       "      <td>ia</td>\n",
       "      <td>None</td>\n",
       "      <td>None</td>\n",
       "      <td>None</td>\n",
       "    </tr>\n",
       "    <tr>\n",
       "      <th>4</th>\n",
       "      <td>ia</td>\n",
       "      <td>None</td>\n",
       "      <td>None</td>\n",
       "      <td>None</td>\n",
       "    </tr>\n",
       "  </tbody>\n",
       "</table>\n",
       "</div>"
      ],
      "text/plain": [
       "       0     1     2     3\n",
       "0  998$a  None  None  None\n",
       "1     ia  None  None  None\n",
       "2     ia  None  None  None\n",
       "3     ia  None  None  None\n",
       "4     ia  None  None  None"
      ]
     },
     "execution_count": 12,
     "metadata": {},
     "output_type": "execute_result"
    }
   ],
   "source": [
    "block.head()"
   ]
  },
  {
   "cell_type": "code",
   "execution_count": 13,
   "id": "d0f5a5b6-e05b-4e3f-89e5-c6c31835e061",
   "metadata": {},
   "outputs": [],
   "source": [
    "block.drop([0], inplace=True)"
   ]
  },
  {
   "cell_type": "code",
   "execution_count": 14,
   "id": "cf960756-2de5-4e03-899a-8a0a406fe68f",
   "metadata": {},
   "outputs": [],
   "source": [
    "ublock = set()\n",
    "for c in block.columns:\n",
    "    for i in block[c].unique():\n",
    "        ublock.add(i)"
   ]
  },
  {
   "cell_type": "code",
   "execution_count": 15,
   "id": "06fc40cf-c87a-4232-9131-1f0fbe69b20b",
   "metadata": {},
   "outputs": [],
   "source": [
    "ublock_lst = list(ublock)"
   ]
  },
  {
   "cell_type": "code",
   "execution_count": 16,
   "id": "7443903b-cfbf-476f-bf85-598fde2c75ec",
   "metadata": {},
   "outputs": [
    {
     "name": "stdout",
     "output_type": "stream",
     "text": [
      "['iarch', None, 'iaslr', 'ma', 'slr', 'nda', 'hfa', 'wka', 'mai', 'none', 'ls', 'sc', 'scf', 'ia', 'map', 'mal']\n"
     ]
    }
   ],
   "source": [
    "print(ublock_lst)"
   ]
  },
  {
   "cell_type": "code",
   "execution_count": 17,
   "id": "61ee2643-587c-4cc3-9dd8-21358cc1c3ba",
   "metadata": {},
   "outputs": [],
   "source": [
    "ublock_lst.remove(None)\n"
   ]
  },
  {
   "cell_type": "code",
   "execution_count": 18,
   "id": "6fddf7d1-4952-4430-848c-48890f009750",
   "metadata": {},
   "outputs": [
    {
     "name": "stdout",
     "output_type": "stream",
     "text": [
      "['hfa', 'ia', 'iarch', 'iaslr', 'ls', 'ma', 'mai', 'mal', 'map', 'nda', 'none', 'sc', 'scf', 'slr', 'wka']\n"
     ]
    }
   ],
   "source": [
    "print(sorted(ublock_lst))"
   ]
  },
  {
   "cell_type": "code",
   "execution_count": 19,
   "id": "429ffa99-2c88-4b94-99f0-048186e3cfc9",
   "metadata": {},
   "outputs": [],
   "source": [
    "hfa = df[df[\"998$a\"].str.contains(\"hfa\")]"
   ]
  },
  {
   "cell_type": "code",
   "execution_count": 20,
   "id": "1d6538a6-aacd-4a7e-aa06-629bbd5f0994",
   "metadata": {},
   "outputs": [
    {
     "data": {
      "text/plain": [
       "1"
      ]
     },
     "execution_count": 20,
     "metadata": {},
     "output_type": "execute_result"
    }
   ],
   "source": [
    "hfa.shape[0]"
   ]
  },
  {
   "cell_type": "code",
   "execution_count": 21,
   "id": "b60a015d-7b4a-4294-866c-17a4f5c90f25",
   "metadata": {},
   "outputs": [
    {
     "data": {
      "text/html": [
       "<div>\n",
       "<style scoped>\n",
       "    .dataframe tbody tr th:only-of-type {\n",
       "        vertical-align: middle;\n",
       "    }\n",
       "\n",
       "    .dataframe tbody tr th {\n",
       "        vertical-align: top;\n",
       "    }\n",
       "\n",
       "    .dataframe thead th {\n",
       "        text-align: right;\n",
       "    }\n",
       "</style>\n",
       "<table border=\"1\" class=\"dataframe\">\n",
       "  <thead>\n",
       "    <tr style=\"text-align: right;\">\n",
       "      <th></th>\n",
       "      <th>001</th>\n",
       "      <th>003</th>\n",
       "      <th>035$a</th>\n",
       "      <th>049$a</th>\n",
       "      <th>907$a</th>\n",
       "      <th>910$a</th>\n",
       "      <th>991$y</th>\n",
       "      <th>998$a</th>\n",
       "      <th>998$d</th>\n",
       "      <th>998$c</th>\n",
       "      <th>blocs</th>\n",
       "    </tr>\n",
       "  </thead>\n",
       "  <tbody>\n",
       "    <tr>\n",
       "      <th>307453</th>\n",
       "      <td>marcive325131966</td>\n",
       "      <td>OCoLC</td>\n",
       "      <td>(GPO)99273651</td>\n",
       "      <td>NYPS</td>\n",
       "      <td>.b180667476</td>\n",
       "      <td>BL</td>\n",
       "      <td>NaN</td>\n",
       "      <td>(7)hfa@(3)ls@(4)nda@(3)wka</td>\n",
       "      <td>k</td>\n",
       "      <td>m</td>\n",
       "      <td>hfa@ls@nda@wka</td>\n",
       "    </tr>\n",
       "  </tbody>\n",
       "</table>\n",
       "</div>"
      ],
      "text/plain": [
       "                     001    003          035$a 049$a        907$a 910$a 991$y  \\\n",
       "307453  marcive325131966  OCoLC  (GPO)99273651  NYPS  .b180667476    BL   NaN   \n",
       "\n",
       "                             998$a 998$d 998$c           blocs  \n",
       "307453  (7)hfa@(3)ls@(4)nda@(3)wka   k       m  hfa@ls@nda@wka  "
      ]
     },
     "execution_count": 21,
     "metadata": {},
     "output_type": "execute_result"
    }
   ],
   "source": [
    "hfa.head()"
   ]
  },
  {
   "cell_type": "code",
   "execution_count": 22,
   "id": "d1e415d1-9c4f-4bdd-a08e-d88a081dcda5",
   "metadata": {},
   "outputs": [],
   "source": [
    "iaslr = df[df[\"998$a\"].str.contains(\"iaslr\")]"
   ]
  },
  {
   "cell_type": "code",
   "execution_count": 23,
   "id": "3c4ca248-72bc-4789-8e6c-3ba5f53aad06",
   "metadata": {},
   "outputs": [
    {
     "data": {
      "text/plain": [
       "193"
      ]
     },
     "execution_count": 23,
     "metadata": {},
     "output_type": "execute_result"
    }
   ],
   "source": [
    "iaslr.shape[0]"
   ]
  },
  {
   "cell_type": "code",
   "execution_count": 24,
   "id": "39b8086d-e4f0-404d-80ee-8f266ddcd2c4",
   "metadata": {},
   "outputs": [
    {
     "data": {
      "text/html": [
       "<div>\n",
       "<style scoped>\n",
       "    .dataframe tbody tr th:only-of-type {\n",
       "        vertical-align: middle;\n",
       "    }\n",
       "\n",
       "    .dataframe tbody tr th {\n",
       "        vertical-align: top;\n",
       "    }\n",
       "\n",
       "    .dataframe thead th {\n",
       "        text-align: right;\n",
       "    }\n",
       "</style>\n",
       "<table border=\"1\" class=\"dataframe\">\n",
       "  <thead>\n",
       "    <tr style=\"text-align: right;\">\n",
       "      <th></th>\n",
       "      <th>001</th>\n",
       "      <th>003</th>\n",
       "      <th>035$a</th>\n",
       "      <th>049$a</th>\n",
       "      <th>907$a</th>\n",
       "      <th>910$a</th>\n",
       "      <th>991$y</th>\n",
       "      <th>998$a</th>\n",
       "      <th>998$d</th>\n",
       "      <th>998$c</th>\n",
       "      <th>blocs</th>\n",
       "    </tr>\n",
       "  </thead>\n",
       "  <tbody>\n",
       "    <tr>\n",
       "      <th>143553</th>\n",
       "      <td>marcive44906268</td>\n",
       "      <td>OCoLC</td>\n",
       "      <td>NaN</td>\n",
       "      <td>NYPS</td>\n",
       "      <td>.b149123693</td>\n",
       "      <td>NaN</td>\n",
       "      <td>NaN</td>\n",
       "      <td>ia@iaslr</td>\n",
       "      <td>w</td>\n",
       "      <td>m</td>\n",
       "      <td>ia@iaslr</td>\n",
       "    </tr>\n",
       "    <tr>\n",
       "      <th>143565</th>\n",
       "      <td>marcive44948254</td>\n",
       "      <td>OCoLC</td>\n",
       "      <td>NaN</td>\n",
       "      <td>NYPS</td>\n",
       "      <td>.b149123863</td>\n",
       "      <td>NaN</td>\n",
       "      <td>NaN</td>\n",
       "      <td>ia@iaslr</td>\n",
       "      <td>w</td>\n",
       "      <td>m</td>\n",
       "      <td>ia@iaslr</td>\n",
       "    </tr>\n",
       "    <tr>\n",
       "      <th>143566</th>\n",
       "      <td>marcive44948430</td>\n",
       "      <td>OCoLC</td>\n",
       "      <td>NaN</td>\n",
       "      <td>NYPS</td>\n",
       "      <td>.b149123875</td>\n",
       "      <td>NaN</td>\n",
       "      <td>NaN</td>\n",
       "      <td>ia@iaslr</td>\n",
       "      <td>w</td>\n",
       "      <td>m</td>\n",
       "      <td>ia@iaslr</td>\n",
       "    </tr>\n",
       "    <tr>\n",
       "      <th>144371</th>\n",
       "      <td>marcive45429290</td>\n",
       "      <td>OCoLC</td>\n",
       "      <td>NaN</td>\n",
       "      <td>NYPS</td>\n",
       "      <td>.b149631145</td>\n",
       "      <td>NaN</td>\n",
       "      <td>NaN</td>\n",
       "      <td>ia@iaslr</td>\n",
       "      <td>w</td>\n",
       "      <td>m</td>\n",
       "      <td>ia@iaslr</td>\n",
       "    </tr>\n",
       "    <tr>\n",
       "      <th>144378</th>\n",
       "      <td>marcive45429646</td>\n",
       "      <td>OCoLC</td>\n",
       "      <td>NaN</td>\n",
       "      <td>NYPS</td>\n",
       "      <td>.b149631212</td>\n",
       "      <td>NaN</td>\n",
       "      <td>NaN</td>\n",
       "      <td>ia@iaslr</td>\n",
       "      <td>w</td>\n",
       "      <td>m</td>\n",
       "      <td>ia@iaslr</td>\n",
       "    </tr>\n",
       "  </tbody>\n",
       "</table>\n",
       "</div>"
      ],
      "text/plain": [
       "                    001    003 035$a 049$a        907$a 910$a 991$y     998$a  \\\n",
       "143553  marcive44906268  OCoLC   NaN  NYPS  .b149123693   NaN   NaN  ia@iaslr   \n",
       "143565  marcive44948254  OCoLC   NaN  NYPS  .b149123863   NaN   NaN  ia@iaslr   \n",
       "143566  marcive44948430  OCoLC   NaN  NYPS  .b149123875   NaN   NaN  ia@iaslr   \n",
       "144371  marcive45429290  OCoLC   NaN  NYPS  .b149631145   NaN   NaN  ia@iaslr   \n",
       "144378  marcive45429646  OCoLC   NaN  NYPS  .b149631212   NaN   NaN  ia@iaslr   \n",
       "\n",
       "       998$d 998$c     blocs  \n",
       "143553   w       m  ia@iaslr  \n",
       "143565   w       m  ia@iaslr  \n",
       "143566   w       m  ia@iaslr  \n",
       "144371   w       m  ia@iaslr  \n",
       "144378   w       m  ia@iaslr  "
      ]
     },
     "execution_count": 24,
     "metadata": {},
     "output_type": "execute_result"
    }
   ],
   "source": [
    "iaslr.head()"
   ]
  },
  {
   "cell_type": "code",
   "execution_count": 25,
   "id": "d28d0e36-356d-405a-87bd-4526cf27d9a9",
   "metadata": {},
   "outputs": [],
   "source": [
    "ls = df[df[\"998$a\"].str.contains(\"ls\")]"
   ]
  },
  {
   "cell_type": "code",
   "execution_count": 26,
   "id": "24962ef7-0178-465e-b766-989fdfab98e2",
   "metadata": {},
   "outputs": [
    {
     "data": {
      "text/plain": [
       "3467"
      ]
     },
     "execution_count": 26,
     "metadata": {},
     "output_type": "execute_result"
    }
   ],
   "source": [
    "ls.shape[0]"
   ]
  },
  {
   "cell_type": "code",
   "execution_count": 27,
   "id": "3cee8471-1b57-4feb-9a72-042b8665b9d7",
   "metadata": {},
   "outputs": [
    {
     "data": {
      "text/html": [
       "<div>\n",
       "<style scoped>\n",
       "    .dataframe tbody tr th:only-of-type {\n",
       "        vertical-align: middle;\n",
       "    }\n",
       "\n",
       "    .dataframe tbody tr th {\n",
       "        vertical-align: top;\n",
       "    }\n",
       "\n",
       "    .dataframe thead th {\n",
       "        text-align: right;\n",
       "    }\n",
       "</style>\n",
       "<table border=\"1\" class=\"dataframe\">\n",
       "  <thead>\n",
       "    <tr style=\"text-align: right;\">\n",
       "      <th></th>\n",
       "      <th>001</th>\n",
       "      <th>003</th>\n",
       "      <th>035$a</th>\n",
       "      <th>049$a</th>\n",
       "      <th>907$a</th>\n",
       "      <th>910$a</th>\n",
       "      <th>991$y</th>\n",
       "      <th>998$a</th>\n",
       "      <th>998$d</th>\n",
       "      <th>998$c</th>\n",
       "      <th>blocs</th>\n",
       "    </tr>\n",
       "  </thead>\n",
       "  <tbody>\n",
       "    <tr>\n",
       "      <th>141271</th>\n",
       "      <td>marcive33351677</td>\n",
       "      <td>NaN</td>\n",
       "      <td>(GPO)99047180</td>\n",
       "      <td>NaN</td>\n",
       "      <td>.b145654874</td>\n",
       "      <td>NaN</td>\n",
       "      <td>NaN</td>\n",
       "      <td>ls</td>\n",
       "      <td>h</td>\n",
       "      <td>s</td>\n",
       "      <td>ls</td>\n",
       "    </tr>\n",
       "    <tr>\n",
       "      <th>141764</th>\n",
       "      <td>marcive25926777</td>\n",
       "      <td>OCoLC</td>\n",
       "      <td>(GPO)99086710</td>\n",
       "      <td>NaN</td>\n",
       "      <td>.b146923169</td>\n",
       "      <td>NaN</td>\n",
       "      <td>NaN</td>\n",
       "      <td>ls</td>\n",
       "      <td>h</td>\n",
       "      <td>s</td>\n",
       "      <td>ls</td>\n",
       "    </tr>\n",
       "    <tr>\n",
       "      <th>141765</th>\n",
       "      <td>marcive31637667</td>\n",
       "      <td>NaN</td>\n",
       "      <td>(GPO)99048868</td>\n",
       "      <td>NaN</td>\n",
       "      <td>.b146923170</td>\n",
       "      <td>NaN</td>\n",
       "      <td>NaN</td>\n",
       "      <td>ls</td>\n",
       "      <td>h</td>\n",
       "      <td>s</td>\n",
       "      <td>ls</td>\n",
       "    </tr>\n",
       "    <tr>\n",
       "      <th>141776</th>\n",
       "      <td>marcive40198117</td>\n",
       "      <td>OCoLC</td>\n",
       "      <td>(GPO)20032363</td>\n",
       "      <td>NaN</td>\n",
       "      <td>.b146923340</td>\n",
       "      <td>NaN</td>\n",
       "      <td>NaN</td>\n",
       "      <td>ls</td>\n",
       "      <td>h</td>\n",
       "      <td>s</td>\n",
       "      <td>ls</td>\n",
       "    </tr>\n",
       "    <tr>\n",
       "      <th>142283</th>\n",
       "      <td>marcive44430985</td>\n",
       "      <td>OCoLC</td>\n",
       "      <td>(GPO)99214460</td>\n",
       "      <td>NYPS</td>\n",
       "      <td>.b147073856</td>\n",
       "      <td>NaN</td>\n",
       "      <td>NaN</td>\n",
       "      <td>ls</td>\n",
       "      <td>h</td>\n",
       "      <td>s</td>\n",
       "      <td>ls</td>\n",
       "    </tr>\n",
       "  </tbody>\n",
       "</table>\n",
       "</div>"
      ],
      "text/plain": [
       "                    001    003          035$a 049$a        907$a 910$a 991$y  \\\n",
       "141271  marcive33351677    NaN  (GPO)99047180   NaN  .b145654874   NaN   NaN   \n",
       "141764  marcive25926777  OCoLC  (GPO)99086710   NaN  .b146923169   NaN   NaN   \n",
       "141765  marcive31637667    NaN  (GPO)99048868   NaN  .b146923170   NaN   NaN   \n",
       "141776  marcive40198117  OCoLC  (GPO)20032363   NaN  .b146923340   NaN   NaN   \n",
       "142283  marcive44430985  OCoLC  (GPO)99214460  NYPS  .b147073856   NaN   NaN   \n",
       "\n",
       "       998$a 998$d 998$c blocs  \n",
       "141271    ls   h       s    ls  \n",
       "141764    ls   h       s    ls  \n",
       "141765    ls   h       s    ls  \n",
       "141776    ls   h       s    ls  \n",
       "142283    ls   h       s    ls  "
      ]
     },
     "execution_count": 27,
     "metadata": {},
     "output_type": "execute_result"
    }
   ],
   "source": [
    "ls.head()"
   ]
  },
  {
   "cell_type": "code",
   "execution_count": 28,
   "id": "810b518c-0b0c-48b3-bb86-d14ab908065c",
   "metadata": {},
   "outputs": [],
   "source": [
    "nda = df[df[\"998$a\"].str.contains(\"nda\")]"
   ]
  },
  {
   "cell_type": "code",
   "execution_count": 29,
   "id": "88b2245d-89a3-4b66-bce9-23e9a5289fe5",
   "metadata": {},
   "outputs": [
    {
     "data": {
      "text/plain": [
       "1"
      ]
     },
     "execution_count": 29,
     "metadata": {},
     "output_type": "execute_result"
    }
   ],
   "source": [
    "nda.shape[0]"
   ]
  },
  {
   "cell_type": "code",
   "execution_count": 30,
   "id": "d1bce064-3afe-4611-9e6a-01b7097ce1aa",
   "metadata": {},
   "outputs": [
    {
     "data": {
      "text/html": [
       "<div>\n",
       "<style scoped>\n",
       "    .dataframe tbody tr th:only-of-type {\n",
       "        vertical-align: middle;\n",
       "    }\n",
       "\n",
       "    .dataframe tbody tr th {\n",
       "        vertical-align: top;\n",
       "    }\n",
       "\n",
       "    .dataframe thead th {\n",
       "        text-align: right;\n",
       "    }\n",
       "</style>\n",
       "<table border=\"1\" class=\"dataframe\">\n",
       "  <thead>\n",
       "    <tr style=\"text-align: right;\">\n",
       "      <th></th>\n",
       "      <th>001</th>\n",
       "      <th>003</th>\n",
       "      <th>035$a</th>\n",
       "      <th>049$a</th>\n",
       "      <th>907$a</th>\n",
       "      <th>910$a</th>\n",
       "      <th>991$y</th>\n",
       "      <th>998$a</th>\n",
       "      <th>998$d</th>\n",
       "      <th>998$c</th>\n",
       "      <th>blocs</th>\n",
       "    </tr>\n",
       "  </thead>\n",
       "  <tbody>\n",
       "    <tr>\n",
       "      <th>307453</th>\n",
       "      <td>marcive325131966</td>\n",
       "      <td>OCoLC</td>\n",
       "      <td>(GPO)99273651</td>\n",
       "      <td>NYPS</td>\n",
       "      <td>.b180667476</td>\n",
       "      <td>BL</td>\n",
       "      <td>NaN</td>\n",
       "      <td>(7)hfa@(3)ls@(4)nda@(3)wka</td>\n",
       "      <td>k</td>\n",
       "      <td>m</td>\n",
       "      <td>hfa@ls@nda@wka</td>\n",
       "    </tr>\n",
       "  </tbody>\n",
       "</table>\n",
       "</div>"
      ],
      "text/plain": [
       "                     001    003          035$a 049$a        907$a 910$a 991$y  \\\n",
       "307453  marcive325131966  OCoLC  (GPO)99273651  NYPS  .b180667476    BL   NaN   \n",
       "\n",
       "                             998$a 998$d 998$c           blocs  \n",
       "307453  (7)hfa@(3)ls@(4)nda@(3)wka   k       m  hfa@ls@nda@wka  "
      ]
     },
     "execution_count": 30,
     "metadata": {},
     "output_type": "execute_result"
    }
   ],
   "source": [
    "nda.head()"
   ]
  },
  {
   "cell_type": "code",
   "execution_count": 31,
   "id": "ed6f7bc5-2a77-4d9b-a65c-73d1a53175e8",
   "metadata": {},
   "outputs": [],
   "source": [
    "none = df[df[\"998$a\"].str.contains(\"none\")]"
   ]
  },
  {
   "cell_type": "code",
   "execution_count": 32,
   "id": "edd75b7e-eda0-4998-a1b3-2f70f8389959",
   "metadata": {},
   "outputs": [
    {
     "data": {
      "text/plain": [
       "5"
      ]
     },
     "execution_count": 32,
     "metadata": {},
     "output_type": "execute_result"
    }
   ],
   "source": [
    "none.shape[0]"
   ]
  },
  {
   "cell_type": "code",
   "execution_count": 33,
   "id": "3186c2c5-0539-4699-87e3-b7a6d3f8c128",
   "metadata": {},
   "outputs": [
    {
     "data": {
      "text/html": [
       "<div>\n",
       "<style scoped>\n",
       "    .dataframe tbody tr th:only-of-type {\n",
       "        vertical-align: middle;\n",
       "    }\n",
       "\n",
       "    .dataframe tbody tr th {\n",
       "        vertical-align: top;\n",
       "    }\n",
       "\n",
       "    .dataframe thead th {\n",
       "        text-align: right;\n",
       "    }\n",
       "</style>\n",
       "<table border=\"1\" class=\"dataframe\">\n",
       "  <thead>\n",
       "    <tr style=\"text-align: right;\">\n",
       "      <th></th>\n",
       "      <th>001</th>\n",
       "      <th>003</th>\n",
       "      <th>035$a</th>\n",
       "      <th>049$a</th>\n",
       "      <th>907$a</th>\n",
       "      <th>910$a</th>\n",
       "      <th>991$y</th>\n",
       "      <th>998$a</th>\n",
       "      <th>998$d</th>\n",
       "      <th>998$c</th>\n",
       "      <th>blocs</th>\n",
       "    </tr>\n",
       "  </thead>\n",
       "  <tbody>\n",
       "    <tr>\n",
       "      <th>148348</th>\n",
       "      <td>marcive27361126</td>\n",
       "      <td>NaN</td>\n",
       "      <td>(GPO)99063864</td>\n",
       "      <td>NaN</td>\n",
       "      <td>.b151176863</td>\n",
       "      <td>NaN</td>\n",
       "      <td>NaN</td>\n",
       "      <td>none</td>\n",
       "      <td>h</td>\n",
       "      <td>s</td>\n",
       "      <td>none</td>\n",
       "    </tr>\n",
       "    <tr>\n",
       "      <th>167112</th>\n",
       "      <td>marcive27299925</td>\n",
       "      <td>NaN</td>\n",
       "      <td>(GPO)93064611</td>\n",
       "      <td>NaN</td>\n",
       "      <td>.b151393527</td>\n",
       "      <td>NaN</td>\n",
       "      <td>NaN</td>\n",
       "      <td>none</td>\n",
       "      <td>h</td>\n",
       "      <td>m</td>\n",
       "      <td>none</td>\n",
       "    </tr>\n",
       "    <tr>\n",
       "      <th>263890</th>\n",
       "      <td>marcive52125375</td>\n",
       "      <td>OCoLC</td>\n",
       "      <td>(GPO)99143221</td>\n",
       "      <td>NaN</td>\n",
       "      <td>.b159094677</td>\n",
       "      <td>NaN</td>\n",
       "      <td>NaN</td>\n",
       "      <td>none</td>\n",
       "      <td>v</td>\n",
       "      <td>m</td>\n",
       "      <td>none</td>\n",
       "    </tr>\n",
       "    <tr>\n",
       "      <th>277426</th>\n",
       "      <td>marcive64630785</td>\n",
       "      <td>OCoLC</td>\n",
       "      <td>(GPO)99186934</td>\n",
       "      <td>NYPS</td>\n",
       "      <td>.b163334110</td>\n",
       "      <td>NaN</td>\n",
       "      <td>NaN</td>\n",
       "      <td>none</td>\n",
       "      <td>a</td>\n",
       "      <td>s</td>\n",
       "      <td>none</td>\n",
       "    </tr>\n",
       "    <tr>\n",
       "      <th>319066</th>\n",
       "      <td>marcive312441530</td>\n",
       "      <td>OCoLC</td>\n",
       "      <td>(GPO)99308932</td>\n",
       "      <td>NYPS</td>\n",
       "      <td>.b186706182</td>\n",
       "      <td>NaN</td>\n",
       "      <td>NaN</td>\n",
       "      <td>none</td>\n",
       "      <td>m</td>\n",
       "      <td>s</td>\n",
       "      <td>none</td>\n",
       "    </tr>\n",
       "  </tbody>\n",
       "</table>\n",
       "</div>"
      ],
      "text/plain": [
       "                     001    003          035$a 049$a        907$a 910$a 991$y  \\\n",
       "148348   marcive27361126    NaN  (GPO)99063864   NaN  .b151176863   NaN   NaN   \n",
       "167112   marcive27299925    NaN  (GPO)93064611   NaN  .b151393527   NaN   NaN   \n",
       "263890   marcive52125375  OCoLC  (GPO)99143221   NaN  .b159094677   NaN   NaN   \n",
       "277426   marcive64630785  OCoLC  (GPO)99186934  NYPS  .b163334110   NaN   NaN   \n",
       "319066  marcive312441530  OCoLC  (GPO)99308932  NYPS  .b186706182   NaN   NaN   \n",
       "\n",
       "       998$a 998$d 998$c blocs  \n",
       "148348  none   h       s  none  \n",
       "167112  none   h       m  none  \n",
       "263890  none   v       m  none  \n",
       "277426  none   a       s  none  \n",
       "319066  none   m       s  none  "
      ]
     },
     "execution_count": 33,
     "metadata": {},
     "output_type": "execute_result"
    }
   ],
   "source": [
    "none.head()"
   ]
  },
  {
   "cell_type": "code",
   "execution_count": 34,
   "id": "c3c4ada5-5f27-4335-bb84-17899cc9a74e",
   "metadata": {},
   "outputs": [],
   "source": [
    "slr = df[df[\"998$a\"].str.contains(\"slr\")]"
   ]
  },
  {
   "cell_type": "code",
   "execution_count": 35,
   "id": "3ac3e07c-d29d-4ae7-9e51-ad3cca82a505",
   "metadata": {},
   "outputs": [
    {
     "data": {
      "text/plain": [
       "829"
      ]
     },
     "execution_count": 35,
     "metadata": {},
     "output_type": "execute_result"
    }
   ],
   "source": [
    "slr.shape[0]"
   ]
  },
  {
   "cell_type": "code",
   "execution_count": 36,
   "id": "4c49d45c-786a-41dd-9073-b0555db303b1",
   "metadata": {},
   "outputs": [
    {
     "data": {
      "text/html": [
       "<div>\n",
       "<style scoped>\n",
       "    .dataframe tbody tr th:only-of-type {\n",
       "        vertical-align: middle;\n",
       "    }\n",
       "\n",
       "    .dataframe tbody tr th {\n",
       "        vertical-align: top;\n",
       "    }\n",
       "\n",
       "    .dataframe thead th {\n",
       "        text-align: right;\n",
       "    }\n",
       "</style>\n",
       "<table border=\"1\" class=\"dataframe\">\n",
       "  <thead>\n",
       "    <tr style=\"text-align: right;\">\n",
       "      <th></th>\n",
       "      <th>001</th>\n",
       "      <th>003</th>\n",
       "      <th>035$a</th>\n",
       "      <th>049$a</th>\n",
       "      <th>907$a</th>\n",
       "      <th>910$a</th>\n",
       "      <th>991$y</th>\n",
       "      <th>998$a</th>\n",
       "      <th>998$d</th>\n",
       "      <th>998$c</th>\n",
       "      <th>blocs</th>\n",
       "    </tr>\n",
       "  </thead>\n",
       "  <tbody>\n",
       "    <tr>\n",
       "      <th>65551</th>\n",
       "      <td>marcive1076544575</td>\n",
       "      <td>OCoLC</td>\n",
       "      <td>NaN</td>\n",
       "      <td>NYPS</td>\n",
       "      <td>.b217074315</td>\n",
       "      <td>BL</td>\n",
       "      <td>NaN</td>\n",
       "      <td>ia@slr</td>\n",
       "      <td>w</td>\n",
       "      <td>m</td>\n",
       "      <td>ia@slr</td>\n",
       "    </tr>\n",
       "    <tr>\n",
       "      <th>65576</th>\n",
       "      <td>marcive1062587754</td>\n",
       "      <td>OCoLC</td>\n",
       "      <td>NaN</td>\n",
       "      <td>NYPS</td>\n",
       "      <td>.b21707456x</td>\n",
       "      <td>NaN</td>\n",
       "      <td>NaN</td>\n",
       "      <td>ia@slr</td>\n",
       "      <td>w</td>\n",
       "      <td>m</td>\n",
       "      <td>ia@slr</td>\n",
       "    </tr>\n",
       "    <tr>\n",
       "      <th>65577</th>\n",
       "      <td>marcive1062591749</td>\n",
       "      <td>OCoLC</td>\n",
       "      <td>NaN</td>\n",
       "      <td>NYPS</td>\n",
       "      <td>.b217074571</td>\n",
       "      <td>BL</td>\n",
       "      <td>NaN</td>\n",
       "      <td>ia@slr</td>\n",
       "      <td>w</td>\n",
       "      <td>m</td>\n",
       "      <td>ia@slr</td>\n",
       "    </tr>\n",
       "    <tr>\n",
       "      <th>65578</th>\n",
       "      <td>marcive1062588689</td>\n",
       "      <td>OCoLC</td>\n",
       "      <td>NaN</td>\n",
       "      <td>NYPS</td>\n",
       "      <td>.b217074583</td>\n",
       "      <td>NaN</td>\n",
       "      <td>NaN</td>\n",
       "      <td>ia@slr</td>\n",
       "      <td>w</td>\n",
       "      <td>m</td>\n",
       "      <td>ia@slr</td>\n",
       "    </tr>\n",
       "    <tr>\n",
       "      <th>65579</th>\n",
       "      <td>marcive1062593975</td>\n",
       "      <td>OCoLC</td>\n",
       "      <td>NaN</td>\n",
       "      <td>NYPS</td>\n",
       "      <td>.b217074595</td>\n",
       "      <td>BL</td>\n",
       "      <td>NaN</td>\n",
       "      <td>ia@slr</td>\n",
       "      <td>w</td>\n",
       "      <td>m</td>\n",
       "      <td>ia@slr</td>\n",
       "    </tr>\n",
       "  </tbody>\n",
       "</table>\n",
       "</div>"
      ],
      "text/plain": [
       "                     001    003 035$a 049$a        907$a 910$a 991$y   998$a  \\\n",
       "65551  marcive1076544575  OCoLC   NaN  NYPS  .b217074315    BL   NaN  ia@slr   \n",
       "65576  marcive1062587754  OCoLC   NaN  NYPS  .b21707456x   NaN   NaN  ia@slr   \n",
       "65577  marcive1062591749  OCoLC   NaN  NYPS  .b217074571    BL   NaN  ia@slr   \n",
       "65578  marcive1062588689  OCoLC   NaN  NYPS  .b217074583   NaN   NaN  ia@slr   \n",
       "65579  marcive1062593975  OCoLC   NaN  NYPS  .b217074595    BL   NaN  ia@slr   \n",
       "\n",
       "      998$d 998$c   blocs  \n",
       "65551   w       m  ia@slr  \n",
       "65576   w       m  ia@slr  \n",
       "65577   w       m  ia@slr  \n",
       "65578   w       m  ia@slr  \n",
       "65579   w       m  ia@slr  "
      ]
     },
     "execution_count": 36,
     "metadata": {},
     "output_type": "execute_result"
    }
   ],
   "source": [
    "slr.head()"
   ]
  },
  {
   "cell_type": "code",
   "execution_count": 37,
   "id": "b1467fa8-3de7-486e-915d-6f197f90ad74",
   "metadata": {},
   "outputs": [],
   "source": [
    "# bibs requiring physical Bib Location codes\n",
    "batch = df.iloc[:50001]"
   ]
  },
  {
   "cell_type": "code",
   "execution_count": 38,
   "id": "c9e9a77d-fa02-47a6-bafb-10b1dce44afc",
   "metadata": {},
   "outputs": [],
   "source": [
    "sbatch = batch[batch[\"998$a\"].str.contains(\"ls|ma|sc\", regex=True)]"
   ]
  },
  {
   "cell_type": "code",
   "execution_count": 39,
   "id": "44865f3c-13d8-4040-be17-58d039ba730b",
   "metadata": {},
   "outputs": [
    {
     "data": {
      "text/plain": [
       "11255"
      ]
     },
     "execution_count": 39,
     "metadata": {},
     "output_type": "execute_result"
    }
   ],
   "source": [
    "sbatch.shape[0]"
   ]
  },
  {
   "cell_type": "code",
   "execution_count": 40,
   "id": "56a23bdc-b932-471e-ab4c-f31523e283e9",
   "metadata": {},
   "outputs": [
    {
     "data": {
      "text/html": [
       "<div>\n",
       "<style scoped>\n",
       "    .dataframe tbody tr th:only-of-type {\n",
       "        vertical-align: middle;\n",
       "    }\n",
       "\n",
       "    .dataframe tbody tr th {\n",
       "        vertical-align: top;\n",
       "    }\n",
       "\n",
       "    .dataframe thead th {\n",
       "        text-align: right;\n",
       "    }\n",
       "</style>\n",
       "<table border=\"1\" class=\"dataframe\">\n",
       "  <thead>\n",
       "    <tr style=\"text-align: right;\">\n",
       "      <th></th>\n",
       "      <th>001</th>\n",
       "      <th>003</th>\n",
       "      <th>035$a</th>\n",
       "      <th>049$a</th>\n",
       "      <th>907$a</th>\n",
       "      <th>910$a</th>\n",
       "      <th>991$y</th>\n",
       "      <th>998$a</th>\n",
       "      <th>998$d</th>\n",
       "      <th>998$c</th>\n",
       "      <th>blocs</th>\n",
       "    </tr>\n",
       "  </thead>\n",
       "  <tbody>\n",
       "    <tr>\n",
       "      <th>683</th>\n",
       "      <td>marcive22300635</td>\n",
       "      <td>OCoLC</td>\n",
       "      <td>(GPO)99361496</td>\n",
       "      <td>NYPS</td>\n",
       "      <td>.b195980244</td>\n",
       "      <td>RL</td>\n",
       "      <td>NaN</td>\n",
       "      <td>mai</td>\n",
       "      <td>h</td>\n",
       "      <td>m</td>\n",
       "      <td>mai</td>\n",
       "    </tr>\n",
       "    <tr>\n",
       "      <th>684</th>\n",
       "      <td>marcive22300834</td>\n",
       "      <td>OCoLC</td>\n",
       "      <td>(GPO)99361497</td>\n",
       "      <td>NYPS</td>\n",
       "      <td>.b195980256</td>\n",
       "      <td>RL</td>\n",
       "      <td>NaN</td>\n",
       "      <td>mai</td>\n",
       "      <td>h</td>\n",
       "      <td>m</td>\n",
       "      <td>mai</td>\n",
       "    </tr>\n",
       "    <tr>\n",
       "      <th>685</th>\n",
       "      <td>marcive24771494</td>\n",
       "      <td>OCoLC</td>\n",
       "      <td>(GPO)99361504</td>\n",
       "      <td>NYPS</td>\n",
       "      <td>.b195980268</td>\n",
       "      <td>RL</td>\n",
       "      <td>NaN</td>\n",
       "      <td>mai</td>\n",
       "      <td>h</td>\n",
       "      <td>m</td>\n",
       "      <td>mai</td>\n",
       "    </tr>\n",
       "    <tr>\n",
       "      <th>686</th>\n",
       "      <td>marcive24990896</td>\n",
       "      <td>OCoLC</td>\n",
       "      <td>(GPO)99361506</td>\n",
       "      <td>NYPS</td>\n",
       "      <td>.b19598027x</td>\n",
       "      <td>RL</td>\n",
       "      <td>NaN</td>\n",
       "      <td>mai</td>\n",
       "      <td>h</td>\n",
       "      <td>m</td>\n",
       "      <td>mai</td>\n",
       "    </tr>\n",
       "    <tr>\n",
       "      <th>687</th>\n",
       "      <td>marcive24995781</td>\n",
       "      <td>OCoLC</td>\n",
       "      <td>(GPO)99361507</td>\n",
       "      <td>NYPS</td>\n",
       "      <td>.b195980281</td>\n",
       "      <td>RL</td>\n",
       "      <td>NaN</td>\n",
       "      <td>mai</td>\n",
       "      <td>h</td>\n",
       "      <td>m</td>\n",
       "      <td>mai</td>\n",
       "    </tr>\n",
       "  </tbody>\n",
       "</table>\n",
       "</div>"
      ],
      "text/plain": [
       "                 001    003          035$a 049$a        907$a 910$a 991$y  \\\n",
       "683  marcive22300635  OCoLC  (GPO)99361496  NYPS  .b195980244    RL   NaN   \n",
       "684  marcive22300834  OCoLC  (GPO)99361497  NYPS  .b195980256    RL   NaN   \n",
       "685  marcive24771494  OCoLC  (GPO)99361504  NYPS  .b195980268    RL   NaN   \n",
       "686  marcive24990896  OCoLC  (GPO)99361506  NYPS  .b19598027x    RL   NaN   \n",
       "687  marcive24995781  OCoLC  (GPO)99361507  NYPS  .b195980281    RL   NaN   \n",
       "\n",
       "    998$a 998$d 998$c blocs  \n",
       "683   mai   h       m   mai  \n",
       "684   mai   h       m   mai  \n",
       "685   mai   h       m   mai  \n",
       "686   mai   h       m   mai  \n",
       "687   mai   h       m   mai  "
      ]
     },
     "execution_count": 40,
     "metadata": {},
     "output_type": "execute_result"
    }
   ],
   "source": [
    "sbatch.head()"
   ]
  },
  {
   "cell_type": "code",
   "execution_count": 41,
   "id": "ab613a59-4f73-4476-8a84-f38e67e9280b",
   "metadata": {},
   "outputs": [
    {
     "data": {
      "text/html": [
       "<div>\n",
       "<style scoped>\n",
       "    .dataframe tbody tr th:only-of-type {\n",
       "        vertical-align: middle;\n",
       "    }\n",
       "\n",
       "    .dataframe tbody tr th {\n",
       "        vertical-align: top;\n",
       "    }\n",
       "\n",
       "    .dataframe thead th {\n",
       "        text-align: right;\n",
       "    }\n",
       "</style>\n",
       "<table border=\"1\" class=\"dataframe\">\n",
       "  <thead>\n",
       "    <tr style=\"text-align: right;\">\n",
       "      <th></th>\n",
       "      <th>001</th>\n",
       "      <th>003</th>\n",
       "      <th>035$a</th>\n",
       "      <th>049$a</th>\n",
       "      <th>907$a</th>\n",
       "      <th>910$a</th>\n",
       "      <th>991$y</th>\n",
       "      <th>998$a</th>\n",
       "      <th>998$d</th>\n",
       "      <th>998$c</th>\n",
       "      <th>blocs</th>\n",
       "    </tr>\n",
       "  </thead>\n",
       "  <tbody>\n",
       "    <tr>\n",
       "      <th>683</th>\n",
       "      <td>marcive22300635</td>\n",
       "      <td>OCoLC</td>\n",
       "      <td>(GPO)99361496</td>\n",
       "      <td>NYPS</td>\n",
       "      <td>.b195980244</td>\n",
       "      <td>RL</td>\n",
       "      <td>NaN</td>\n",
       "      <td>mai</td>\n",
       "      <td>h</td>\n",
       "      <td>m</td>\n",
       "      <td>mai</td>\n",
       "    </tr>\n",
       "    <tr>\n",
       "      <th>684</th>\n",
       "      <td>marcive22300834</td>\n",
       "      <td>OCoLC</td>\n",
       "      <td>(GPO)99361497</td>\n",
       "      <td>NYPS</td>\n",
       "      <td>.b195980256</td>\n",
       "      <td>RL</td>\n",
       "      <td>NaN</td>\n",
       "      <td>mai</td>\n",
       "      <td>h</td>\n",
       "      <td>m</td>\n",
       "      <td>mai</td>\n",
       "    </tr>\n",
       "    <tr>\n",
       "      <th>685</th>\n",
       "      <td>marcive24771494</td>\n",
       "      <td>OCoLC</td>\n",
       "      <td>(GPO)99361504</td>\n",
       "      <td>NYPS</td>\n",
       "      <td>.b195980268</td>\n",
       "      <td>RL</td>\n",
       "      <td>NaN</td>\n",
       "      <td>mai</td>\n",
       "      <td>h</td>\n",
       "      <td>m</td>\n",
       "      <td>mai</td>\n",
       "    </tr>\n",
       "    <tr>\n",
       "      <th>686</th>\n",
       "      <td>marcive24990896</td>\n",
       "      <td>OCoLC</td>\n",
       "      <td>(GPO)99361506</td>\n",
       "      <td>NYPS</td>\n",
       "      <td>.b19598027x</td>\n",
       "      <td>RL</td>\n",
       "      <td>NaN</td>\n",
       "      <td>mai</td>\n",
       "      <td>h</td>\n",
       "      <td>m</td>\n",
       "      <td>mai</td>\n",
       "    </tr>\n",
       "    <tr>\n",
       "      <th>687</th>\n",
       "      <td>marcive24995781</td>\n",
       "      <td>OCoLC</td>\n",
       "      <td>(GPO)99361507</td>\n",
       "      <td>NYPS</td>\n",
       "      <td>.b195980281</td>\n",
       "      <td>RL</td>\n",
       "      <td>NaN</td>\n",
       "      <td>mai</td>\n",
       "      <td>h</td>\n",
       "      <td>m</td>\n",
       "      <td>mai</td>\n",
       "    </tr>\n",
       "  </tbody>\n",
       "</table>\n",
       "</div>"
      ],
      "text/plain": [
       "                 001    003          035$a 049$a        907$a 910$a 991$y  \\\n",
       "683  marcive22300635  OCoLC  (GPO)99361496  NYPS  .b195980244    RL   NaN   \n",
       "684  marcive22300834  OCoLC  (GPO)99361497  NYPS  .b195980256    RL   NaN   \n",
       "685  marcive24771494  OCoLC  (GPO)99361504  NYPS  .b195980268    RL   NaN   \n",
       "686  marcive24990896  OCoLC  (GPO)99361506  NYPS  .b19598027x    RL   NaN   \n",
       "687  marcive24995781  OCoLC  (GPO)99361507  NYPS  .b195980281    RL   NaN   \n",
       "\n",
       "    998$a 998$d 998$c blocs  \n",
       "683   mai   h       m   mai  \n",
       "684   mai   h       m   mai  \n",
       "685   mai   h       m   mai  \n",
       "686   mai   h       m   mai  \n",
       "687   mai   h       m   mai  "
      ]
     },
     "execution_count": 41,
     "metadata": {},
     "output_type": "execute_result"
    }
   ],
   "source": [
    "sbatch.head()"
   ]
  },
  {
   "cell_type": "code",
   "execution_count": 42,
   "id": "95a0cd20-d32d-4bbb-a5bd-5b3de7288139",
   "metadata": {},
   "outputs": [],
   "source": [
    "sbatch.to_csv(\"files/MARCIVE-bibNo-0-locs.csv\", columns=[\"907$a\", \"998$a\", \"998$d\"], index=False)"
   ]
  },
  {
   "cell_type": "code",
   "execution_count": null,
   "id": "e4072f62-e960-4a25-bc98-014ba9e42b2e",
   "metadata": {},
   "outputs": [],
   "source": []
  }
 ],
 "metadata": {
  "kernelspec": {
   "display_name": ".venv",
   "language": "python",
   "name": "python3"
  },
  "language_info": {
   "codemirror_mode": {
    "name": "ipython",
    "version": 3
   },
   "file_extension": ".py",
   "mimetype": "text/x-python",
   "name": "python",
   "nbconvert_exporter": "python",
   "pygments_lexer": "ipython3",
   "version": "3.12.6"
  }
 },
 "nbformat": 4,
 "nbformat_minor": 5
}
