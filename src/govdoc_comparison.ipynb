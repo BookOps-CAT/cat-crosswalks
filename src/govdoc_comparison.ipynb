{
 "cells": [
  {
   "cell_type": "code",
   "execution_count": 1,
   "metadata": {},
   "outputs": [],
   "source": [
    "import pandas as pd"
   ]
  },
  {
   "cell_type": "code",
   "execution_count": 2,
   "metadata": {},
   "outputs": [],
   "source": [
    "sierra_fh = \"files/GovDocs/private/GovDocs-Sierra-oclcNos.txt\"\n",
    "oclc_fh = \"files/GovDocs/private/GovDocs-OCLC-oclcNos.txt\""
   ]
  },
  {
   "cell_type": "code",
   "execution_count": 17,
   "metadata": {},
   "outputs": [],
   "source": [
    "sdf = pd.read_csv(sierra_fh, header=0, sep=\"\\t\", names=[\"oclcNo\", \"leader\", \"t008\", \"bibNo\", \"matType\"], dtype={\"oclcNo\": str})"
   ]
  },
  {
   "cell_type": "code",
   "execution_count": 18,
   "metadata": {},
   "outputs": [
    {
     "data": {
      "text/plain": [
       "340218"
      ]
     },
     "execution_count": 18,
     "metadata": {},
     "output_type": "execute_result"
    }
   ],
   "source": [
    "sdf.shape[0]"
   ]
  },
  {
   "cell_type": "code",
   "execution_count": 19,
   "metadata": {},
   "outputs": [],
   "source": [
    "odf = pd.read_csv(oclc_fh, header=0, sep=\"\\t\", names=[\"oclcNo\", \"leader\", \"t008\"], dtype={\"oclcNo\": str})"
   ]
  },
  {
   "cell_type": "code",
   "execution_count": 20,
   "metadata": {},
   "outputs": [
    {
     "data": {
      "text/plain": [
       "182631"
      ]
     },
     "execution_count": 20,
     "metadata": {},
     "output_type": "execute_result"
    }
   ],
   "source": [
    "odf.shape[0]"
   ]
  },
  {
   "cell_type": "code",
   "execution_count": 21,
   "metadata": {},
   "outputs": [],
   "source": [
    "df = pd.merge(sdf, odf, how=\"outer\", on=\"oclcNo\", indicator=True)"
   ]
  },
  {
   "cell_type": "code",
   "execution_count": 22,
   "metadata": {},
   "outputs": [
    {
     "data": {
      "text/plain": [
       "369830"
      ]
     },
     "execution_count": 22,
     "metadata": {},
     "output_type": "execute_result"
    }
   ],
   "source": [
    "df.shape[0]"
   ]
  },
  {
   "cell_type": "code",
   "execution_count": 23,
   "metadata": {},
   "outputs": [
    {
     "data": {
      "text/html": [
       "<div>\n",
       "<style scoped>\n",
       "    .dataframe tbody tr th:only-of-type {\n",
       "        vertical-align: middle;\n",
       "    }\n",
       "\n",
       "    .dataframe tbody tr th {\n",
       "        vertical-align: top;\n",
       "    }\n",
       "\n",
       "    .dataframe thead th {\n",
       "        text-align: right;\n",
       "    }\n",
       "</style>\n",
       "<table border=\"1\" class=\"dataframe\">\n",
       "  <thead>\n",
       "    <tr style=\"text-align: right;\">\n",
       "      <th></th>\n",
       "      <th>oclcNo</th>\n",
       "      <th>leader_x</th>\n",
       "      <th>t008_x</th>\n",
       "      <th>bibNo</th>\n",
       "      <th>matType</th>\n",
       "      <th>leader_y</th>\n",
       "      <th>t008_y</th>\n",
       "      <th>_merge</th>\n",
       "    </tr>\n",
       "  </thead>\n",
       "  <tbody>\n",
       "    <tr>\n",
       "      <th>0</th>\n",
       "      <td>00744019</td>\n",
       "      <td>02070nam a2200457 a 4500</td>\n",
       "      <td>110923s2009\\\\\\\\couab\\\\\\ob\\\\\\f000\\0\\eng\\\\</td>\n",
       "      <td>b223751686</td>\n",
       "      <td>w</td>\n",
       "      <td>NaN</td>\n",
       "      <td>NaN</td>\n",
       "      <td>left_only</td>\n",
       "    </tr>\n",
       "    <tr>\n",
       "      <th>1</th>\n",
       "      <td>00850456</td>\n",
       "      <td>01672nam a2200445 a 4500</td>\n",
       "      <td>041028s2004\\\\\\\\dcua\\\\\\\\ob\\\\\\f000\\0\\eng\\c</td>\n",
       "      <td>b223927600</td>\n",
       "      <td>w</td>\n",
       "      <td>NaN</td>\n",
       "      <td>NaN</td>\n",
       "      <td>left_only</td>\n",
       "    </tr>\n",
       "    <tr>\n",
       "      <th>2</th>\n",
       "      <td>00851887</td>\n",
       "      <td>01628nam a2200421Ki 4500</td>\n",
       "      <td>111113s1977\\\\\\\\dcu\\\\\\\\\\ob\\\\\\f000\\0\\eng\\d</td>\n",
       "      <td>b223927612</td>\n",
       "      <td>w</td>\n",
       "      <td>NaN</td>\n",
       "      <td>NaN</td>\n",
       "      <td>left_only</td>\n",
       "    </tr>\n",
       "    <tr>\n",
       "      <th>3</th>\n",
       "      <td>00877419</td>\n",
       "      <td>01749nam a2200457 a 4500</td>\n",
       "      <td>120905s1998\\\\\\\\gau\\\\\\\\\\o\\\\\\\\f000\\0\\spa\\c</td>\n",
       "      <td>b223985570</td>\n",
       "      <td>w</td>\n",
       "      <td>NaN</td>\n",
       "      <td>NaN</td>\n",
       "      <td>left_only</td>\n",
       "    </tr>\n",
       "    <tr>\n",
       "      <th>4</th>\n",
       "      <td>00985486</td>\n",
       "      <td>01853nam a2200421Ii 4500</td>\n",
       "      <td>740801s1966\\\\\\\\dcu\\\\\\\\\\\\\\\\\\\\f000\\0\\eng\\\\</td>\n",
       "      <td>b210480397</td>\n",
       "      <td>h</td>\n",
       "      <td>NaN</td>\n",
       "      <td>NaN</td>\n",
       "      <td>left_only</td>\n",
       "    </tr>\n",
       "  </tbody>\n",
       "</table>\n",
       "</div>"
      ],
      "text/plain": [
       "     oclcNo                  leader_x  \\\n",
       "0  00744019  02070nam a2200457 a 4500   \n",
       "1  00850456  01672nam a2200445 a 4500   \n",
       "2  00851887  01628nam a2200421Ki 4500   \n",
       "3  00877419  01749nam a2200457 a 4500   \n",
       "4  00985486  01853nam a2200421Ii 4500   \n",
       "\n",
       "                                     t008_x       bibNo matType leader_y  \\\n",
       "0  110923s2009\\\\\\\\couab\\\\\\ob\\\\\\f000\\0\\eng\\\\  b223751686       w      NaN   \n",
       "1  041028s2004\\\\\\\\dcua\\\\\\\\ob\\\\\\f000\\0\\eng\\c  b223927600       w      NaN   \n",
       "2  111113s1977\\\\\\\\dcu\\\\\\\\\\ob\\\\\\f000\\0\\eng\\d  b223927612       w      NaN   \n",
       "3  120905s1998\\\\\\\\gau\\\\\\\\\\o\\\\\\\\f000\\0\\spa\\c  b223985570       w      NaN   \n",
       "4  740801s1966\\\\\\\\dcu\\\\\\\\\\\\\\\\\\\\f000\\0\\eng\\\\  b210480397       h      NaN   \n",
       "\n",
       "  t008_y     _merge  \n",
       "0    NaN  left_only  \n",
       "1    NaN  left_only  \n",
       "2    NaN  left_only  \n",
       "3    NaN  left_only  \n",
       "4    NaN  left_only  "
      ]
     },
     "execution_count": 23,
     "metadata": {},
     "output_type": "execute_result"
    }
   ],
   "source": [
    "df.head()"
   ]
  },
  {
   "cell_type": "code",
   "execution_count": 24,
   "metadata": {},
   "outputs": [],
   "source": [
    "bdf = df[df[\"_merge\"] == \"both\"]"
   ]
  },
  {
   "cell_type": "code",
   "execution_count": 25,
   "metadata": {},
   "outputs": [
    {
     "data": {
      "text/plain": [
       "153073"
      ]
     },
     "execution_count": 25,
     "metadata": {},
     "output_type": "execute_result"
    }
   ],
   "source": [
    "bdf.shape[0]"
   ]
  },
  {
   "cell_type": "code",
   "execution_count": 26,
   "metadata": {},
   "outputs": [
    {
     "data": {
      "text/html": [
       "<div>\n",
       "<style scoped>\n",
       "    .dataframe tbody tr th:only-of-type {\n",
       "        vertical-align: middle;\n",
       "    }\n",
       "\n",
       "    .dataframe tbody tr th {\n",
       "        vertical-align: top;\n",
       "    }\n",
       "\n",
       "    .dataframe thead th {\n",
       "        text-align: right;\n",
       "    }\n",
       "</style>\n",
       "<table border=\"1\" class=\"dataframe\">\n",
       "  <thead>\n",
       "    <tr style=\"text-align: right;\">\n",
       "      <th></th>\n",
       "      <th>oclcNo</th>\n",
       "      <th>leader_x</th>\n",
       "      <th>t008_x</th>\n",
       "      <th>bibNo</th>\n",
       "      <th>matType</th>\n",
       "      <th>leader_y</th>\n",
       "      <th>t008_y</th>\n",
       "      <th>_merge</th>\n",
       "    </tr>\n",
       "  </thead>\n",
       "  <tbody>\n",
       "    <tr>\n",
       "      <th>504</th>\n",
       "      <td>100000459</td>\n",
       "      <td>02200cam a2200445Ka 4500</td>\n",
       "      <td>070329s2007\\\\\\\\wyu\\\\\\\\\\o\\\\\\\\f000\\0\\eng\\d</td>\n",
       "      <td>b165487732</td>\n",
       "      <td>w</td>\n",
       "      <td>02938cam a2200565 a 4500</td>\n",
       "      <td>070329s2007\\\\\\\\wyu\\\\\\\\\\o\\\\\\\\f000\\0\\eng\\d</td>\n",
       "      <td>both</td>\n",
       "    </tr>\n",
       "    <tr>\n",
       "      <th>505</th>\n",
       "      <td>100000715</td>\n",
       "      <td>01835cam a2200445Ia 4500</td>\n",
       "      <td>070329s2007\\\\\\\\mdu\\\\\\\\\\o\\\\\\\\f000\\0\\eng\\\\</td>\n",
       "      <td>b170354271</td>\n",
       "      <td>w</td>\n",
       "      <td>02357cam a2200481 a 4500</td>\n",
       "      <td>070329s2007\\\\\\\\mdu\\\\\\\\\\o\\\\\\\\f000\\0\\eng\\\\</td>\n",
       "      <td>both</td>\n",
       "    </tr>\n",
       "    <tr>\n",
       "      <th>508</th>\n",
       "      <td>1000048890</td>\n",
       "      <td>02481cam a2200493 i 4500</td>\n",
       "      <td>170808s2017\\\\\\\\dcu\\\\\\\\\\ob\\\\\\f000\\0\\eng\\c</td>\n",
       "      <td>b21348707x</td>\n",
       "      <td>w</td>\n",
       "      <td>03069cam a2200589 i 4500</td>\n",
       "      <td>170808s2017\\\\\\\\dcu\\\\\\\\\\ob\\\\\\f000\\0\\eng\\c</td>\n",
       "      <td>both</td>\n",
       "    </tr>\n",
       "    <tr>\n",
       "      <th>509</th>\n",
       "      <td>1000048894</td>\n",
       "      <td>02318cam a2200529 i 4500</td>\n",
       "      <td>170808s2017\\\\\\\\dcua\\\\\\\\ob\\\\\\f000\\0\\eng\\c</td>\n",
       "      <td>b213487081</td>\n",
       "      <td>w</td>\n",
       "      <td>02938cam a2200637 i 4500</td>\n",
       "      <td>170808s2017\\\\\\\\dcua\\\\\\\\ob\\\\\\f000\\0\\eng\\c</td>\n",
       "      <td>both</td>\n",
       "    </tr>\n",
       "    <tr>\n",
       "      <th>510</th>\n",
       "      <td>1000049067</td>\n",
       "      <td>02604cam a2200517 i 4500</td>\n",
       "      <td>170808s2017\\\\\\\\dcu\\\\\\\\\\o\\\\\\\\f000\\0\\eng\\c</td>\n",
       "      <td>b21348710x</td>\n",
       "      <td>w</td>\n",
       "      <td>04062cam a2200709 i 4500</td>\n",
       "      <td>170808s2017\\\\\\\\dcu\\\\\\\\\\o\\\\\\\\f000\\0\\eng\\c</td>\n",
       "      <td>both</td>\n",
       "    </tr>\n",
       "  </tbody>\n",
       "</table>\n",
       "</div>"
      ],
      "text/plain": [
       "         oclcNo                  leader_x  \\\n",
       "504   100000459  02200cam a2200445Ka 4500   \n",
       "505   100000715  01835cam a2200445Ia 4500   \n",
       "508  1000048890  02481cam a2200493 i 4500   \n",
       "509  1000048894  02318cam a2200529 i 4500   \n",
       "510  1000049067  02604cam a2200517 i 4500   \n",
       "\n",
       "                                       t008_x       bibNo matType  \\\n",
       "504  070329s2007\\\\\\\\wyu\\\\\\\\\\o\\\\\\\\f000\\0\\eng\\d  b165487732       w   \n",
       "505  070329s2007\\\\\\\\mdu\\\\\\\\\\o\\\\\\\\f000\\0\\eng\\\\  b170354271       w   \n",
       "508  170808s2017\\\\\\\\dcu\\\\\\\\\\ob\\\\\\f000\\0\\eng\\c  b21348707x       w   \n",
       "509  170808s2017\\\\\\\\dcua\\\\\\\\ob\\\\\\f000\\0\\eng\\c  b213487081       w   \n",
       "510  170808s2017\\\\\\\\dcu\\\\\\\\\\o\\\\\\\\f000\\0\\eng\\c  b21348710x       w   \n",
       "\n",
       "                     leader_y                                    t008_y _merge  \n",
       "504  02938cam a2200565 a 4500  070329s2007\\\\\\\\wyu\\\\\\\\\\o\\\\\\\\f000\\0\\eng\\d   both  \n",
       "505  02357cam a2200481 a 4500  070329s2007\\\\\\\\mdu\\\\\\\\\\o\\\\\\\\f000\\0\\eng\\\\   both  \n",
       "508  03069cam a2200589 i 4500  170808s2017\\\\\\\\dcu\\\\\\\\\\ob\\\\\\f000\\0\\eng\\c   both  \n",
       "509  02938cam a2200637 i 4500  170808s2017\\\\\\\\dcua\\\\\\\\ob\\\\\\f000\\0\\eng\\c   both  \n",
       "510  04062cam a2200709 i 4500  170808s2017\\\\\\\\dcu\\\\\\\\\\o\\\\\\\\f000\\0\\eng\\c   both  "
      ]
     },
     "execution_count": 26,
     "metadata": {},
     "output_type": "execute_result"
    }
   ],
   "source": [
    "bdf.head()"
   ]
  },
  {
   "cell_type": "code",
   "execution_count": 27,
   "metadata": {},
   "outputs": [],
   "source": [
    "sierra_eres = df[(df[\"matType\"] == \"w\") & (df[\"_merge\"] == \"left_only\")]"
   ]
  },
  {
   "cell_type": "code",
   "execution_count": 28,
   "metadata": {},
   "outputs": [
    {
     "data": {
      "text/plain": [
       "42441"
      ]
     },
     "execution_count": 28,
     "metadata": {},
     "output_type": "execute_result"
    }
   ],
   "source": [
    "sierra_eres.shape[0]"
   ]
  },
  {
   "cell_type": "code",
   "execution_count": 29,
   "metadata": {},
   "outputs": [
    {
     "data": {
      "text/html": [
       "<div>\n",
       "<style scoped>\n",
       "    .dataframe tbody tr th:only-of-type {\n",
       "        vertical-align: middle;\n",
       "    }\n",
       "\n",
       "    .dataframe tbody tr th {\n",
       "        vertical-align: top;\n",
       "    }\n",
       "\n",
       "    .dataframe thead th {\n",
       "        text-align: right;\n",
       "    }\n",
       "</style>\n",
       "<table border=\"1\" class=\"dataframe\">\n",
       "  <thead>\n",
       "    <tr style=\"text-align: right;\">\n",
       "      <th></th>\n",
       "      <th>oclcNo</th>\n",
       "      <th>leader_x</th>\n",
       "      <th>t008_x</th>\n",
       "      <th>bibNo</th>\n",
       "      <th>matType</th>\n",
       "      <th>leader_y</th>\n",
       "      <th>t008_y</th>\n",
       "      <th>_merge</th>\n",
       "    </tr>\n",
       "  </thead>\n",
       "  <tbody>\n",
       "    <tr>\n",
       "      <th>0</th>\n",
       "      <td>00744019</td>\n",
       "      <td>02070nam a2200457 a 4500</td>\n",
       "      <td>110923s2009\\\\\\\\couab\\\\\\ob\\\\\\f000\\0\\eng\\\\</td>\n",
       "      <td>b223751686</td>\n",
       "      <td>w</td>\n",
       "      <td>NaN</td>\n",
       "      <td>NaN</td>\n",
       "      <td>left_only</td>\n",
       "    </tr>\n",
       "    <tr>\n",
       "      <th>1</th>\n",
       "      <td>00850456</td>\n",
       "      <td>01672nam a2200445 a 4500</td>\n",
       "      <td>041028s2004\\\\\\\\dcua\\\\\\\\ob\\\\\\f000\\0\\eng\\c</td>\n",
       "      <td>b223927600</td>\n",
       "      <td>w</td>\n",
       "      <td>NaN</td>\n",
       "      <td>NaN</td>\n",
       "      <td>left_only</td>\n",
       "    </tr>\n",
       "    <tr>\n",
       "      <th>2</th>\n",
       "      <td>00851887</td>\n",
       "      <td>01628nam a2200421Ki 4500</td>\n",
       "      <td>111113s1977\\\\\\\\dcu\\\\\\\\\\ob\\\\\\f000\\0\\eng\\d</td>\n",
       "      <td>b223927612</td>\n",
       "      <td>w</td>\n",
       "      <td>NaN</td>\n",
       "      <td>NaN</td>\n",
       "      <td>left_only</td>\n",
       "    </tr>\n",
       "    <tr>\n",
       "      <th>3</th>\n",
       "      <td>00877419</td>\n",
       "      <td>01749nam a2200457 a 4500</td>\n",
       "      <td>120905s1998\\\\\\\\gau\\\\\\\\\\o\\\\\\\\f000\\0\\spa\\c</td>\n",
       "      <td>b223985570</td>\n",
       "      <td>w</td>\n",
       "      <td>NaN</td>\n",
       "      <td>NaN</td>\n",
       "      <td>left_only</td>\n",
       "    </tr>\n",
       "    <tr>\n",
       "      <th>25</th>\n",
       "      <td>04016982</td>\n",
       "      <td>02381cas a2200577 a 4500</td>\n",
       "      <td>780629d19771992dcuar\\\\\\\\s\\\\\\f0\\\\\\a0eng\\d</td>\n",
       "      <td>b222461391</td>\n",
       "      <td>w</td>\n",
       "      <td>NaN</td>\n",
       "      <td>NaN</td>\n",
       "      <td>left_only</td>\n",
       "    </tr>\n",
       "  </tbody>\n",
       "</table>\n",
       "</div>"
      ],
      "text/plain": [
       "      oclcNo                  leader_x  \\\n",
       "0   00744019  02070nam a2200457 a 4500   \n",
       "1   00850456  01672nam a2200445 a 4500   \n",
       "2   00851887  01628nam a2200421Ki 4500   \n",
       "3   00877419  01749nam a2200457 a 4500   \n",
       "25  04016982  02381cas a2200577 a 4500   \n",
       "\n",
       "                                      t008_x       bibNo matType leader_y  \\\n",
       "0   110923s2009\\\\\\\\couab\\\\\\ob\\\\\\f000\\0\\eng\\\\  b223751686       w      NaN   \n",
       "1   041028s2004\\\\\\\\dcua\\\\\\\\ob\\\\\\f000\\0\\eng\\c  b223927600       w      NaN   \n",
       "2   111113s1977\\\\\\\\dcu\\\\\\\\\\ob\\\\\\f000\\0\\eng\\d  b223927612       w      NaN   \n",
       "3   120905s1998\\\\\\\\gau\\\\\\\\\\o\\\\\\\\f000\\0\\spa\\c  b223985570       w      NaN   \n",
       "25  780629d19771992dcuar\\\\\\\\s\\\\\\f0\\\\\\a0eng\\d  b222461391       w      NaN   \n",
       "\n",
       "   t008_y     _merge  \n",
       "0     NaN  left_only  \n",
       "1     NaN  left_only  \n",
       "2     NaN  left_only  \n",
       "3     NaN  left_only  \n",
       "25    NaN  left_only  "
      ]
     },
     "execution_count": 29,
     "metadata": {},
     "output_type": "execute_result"
    }
   ],
   "source": [
    "sierra_eres.head()"
   ]
  },
  {
   "cell_type": "code",
   "execution_count": 30,
   "metadata": {},
   "outputs": [
    {
     "data": {
      "text/html": [
       "<div>\n",
       "<style scoped>\n",
       "    .dataframe tbody tr th:only-of-type {\n",
       "        vertical-align: middle;\n",
       "    }\n",
       "\n",
       "    .dataframe tbody tr th {\n",
       "        vertical-align: top;\n",
       "    }\n",
       "\n",
       "    .dataframe thead th {\n",
       "        text-align: right;\n",
       "    }\n",
       "</style>\n",
       "<table border=\"1\" class=\"dataframe\">\n",
       "  <thead>\n",
       "    <tr style=\"text-align: right;\">\n",
       "      <th></th>\n",
       "      <th>oclcNo</th>\n",
       "      <th>leader_x</th>\n",
       "      <th>t008_x</th>\n",
       "      <th>bibNo</th>\n",
       "      <th>matType</th>\n",
       "      <th>leader_y</th>\n",
       "      <th>t008_y</th>\n",
       "      <th>_merge</th>\n",
       "    </tr>\n",
       "  </thead>\n",
       "  <tbody>\n",
       "    <tr>\n",
       "      <th>369707</th>\n",
       "      <td>99940450</td>\n",
       "      <td>01594cam a2200409Ka 4500</td>\n",
       "      <td>070328s2006\\\\\\\\mdu\\\\\\\\\\o\\\\\\\\f000\\0\\spa\\d</td>\n",
       "      <td>b165486120</td>\n",
       "      <td>w</td>\n",
       "      <td>NaN</td>\n",
       "      <td>NaN</td>\n",
       "      <td>left_only</td>\n",
       "    </tr>\n",
       "    <tr>\n",
       "      <th>369742</th>\n",
       "      <td>999610164</td>\n",
       "      <td>02567nam a2200505 i 4500</td>\n",
       "      <td>170804s2014\\\\\\\\caub\\\\\\\\o\\\\\\\\f000\\0\\eng\\c</td>\n",
       "      <td>b213488826</td>\n",
       "      <td>w</td>\n",
       "      <td>NaN</td>\n",
       "      <td>NaN</td>\n",
       "      <td>left_only</td>\n",
       "    </tr>\n",
       "    <tr>\n",
       "      <th>369767</th>\n",
       "      <td>99964260</td>\n",
       "      <td>01701cam a2200421Ka 4500</td>\n",
       "      <td>070328s2007\\\\\\\\mdu\\\\\\\\\\o\\\\\\\\f000\\0\\spa\\d</td>\n",
       "      <td>b165486855</td>\n",
       "      <td>w</td>\n",
       "      <td>NaN</td>\n",
       "      <td>NaN</td>\n",
       "      <td>left_only</td>\n",
       "    </tr>\n",
       "    <tr>\n",
       "      <th>369789</th>\n",
       "      <td>999728793</td>\n",
       "      <td>02085nam a2200481 i 4500</td>\n",
       "      <td>170807s2017\\\\\\\\dcu\\\\\\\\\\ob\\\\\\f000\\0\\eng\\c</td>\n",
       "      <td>b219699112</td>\n",
       "      <td>w</td>\n",
       "      <td>NaN</td>\n",
       "      <td>NaN</td>\n",
       "      <td>left_only</td>\n",
       "    </tr>\n",
       "    <tr>\n",
       "      <th>369829</th>\n",
       "      <td>99996749</td>\n",
       "      <td>02402nam a22005414a 4500</td>\n",
       "      <td>070402s2006\\\\\\\\dcu\\\\\\\\\\\\\\\\\\\\f000\\0\\eng\\c</td>\n",
       "      <td>b165488669</td>\n",
       "      <td>w</td>\n",
       "      <td>NaN</td>\n",
       "      <td>NaN</td>\n",
       "      <td>left_only</td>\n",
       "    </tr>\n",
       "  </tbody>\n",
       "</table>\n",
       "</div>"
      ],
      "text/plain": [
       "           oclcNo                  leader_x  \\\n",
       "369707   99940450  01594cam a2200409Ka 4500   \n",
       "369742  999610164  02567nam a2200505 i 4500   \n",
       "369767   99964260  01701cam a2200421Ka 4500   \n",
       "369789  999728793  02085nam a2200481 i 4500   \n",
       "369829   99996749  02402nam a22005414a 4500   \n",
       "\n",
       "                                          t008_x       bibNo matType leader_y  \\\n",
       "369707  070328s2006\\\\\\\\mdu\\\\\\\\\\o\\\\\\\\f000\\0\\spa\\d  b165486120       w      NaN   \n",
       "369742  170804s2014\\\\\\\\caub\\\\\\\\o\\\\\\\\f000\\0\\eng\\c  b213488826       w      NaN   \n",
       "369767  070328s2007\\\\\\\\mdu\\\\\\\\\\o\\\\\\\\f000\\0\\spa\\d  b165486855       w      NaN   \n",
       "369789  170807s2017\\\\\\\\dcu\\\\\\\\\\ob\\\\\\f000\\0\\eng\\c  b219699112       w      NaN   \n",
       "369829  070402s2006\\\\\\\\dcu\\\\\\\\\\\\\\\\\\\\f000\\0\\eng\\c  b165488669       w      NaN   \n",
       "\n",
       "       t008_y     _merge  \n",
       "369707    NaN  left_only  \n",
       "369742    NaN  left_only  \n",
       "369767    NaN  left_only  \n",
       "369789    NaN  left_only  \n",
       "369829    NaN  left_only  "
      ]
     },
     "execution_count": 30,
     "metadata": {},
     "output_type": "execute_result"
    }
   ],
   "source": [
    "sierra_eres.tail()"
   ]
  }
 ],
 "metadata": {
  "kernelspec": {
   "display_name": ".venv",
   "language": "python",
   "name": "python3"
  },
  "language_info": {
   "codemirror_mode": {
    "name": "ipython",
    "version": 3
   },
   "file_extension": ".py",
   "mimetype": "text/x-python",
   "name": "python",
   "nbconvert_exporter": "python",
   "pygments_lexer": "ipython3",
   "version": "3.12.6"
  }
 },
 "nbformat": 4,
 "nbformat_minor": 2
}
