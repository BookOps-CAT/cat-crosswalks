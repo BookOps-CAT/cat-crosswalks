{
 "cells": [
  {
   "cell_type": "code",
   "execution_count": 1,
   "metadata": {},
   "outputs": [],
   "source": [
    "import pandas as pd"
   ]
  },
  {
   "cell_type": "code",
   "execution_count": 2,
   "metadata": {},
   "outputs": [],
   "source": [
    "sierra_fh = \"files/GovDocs/private/GovDocs-Sierra-oclcNos.txt\"\n",
    "oclc_fh = \"files/GovDocs/private/GovDocs-OCLC-oclcNos.txt\""
   ]
  },
  {
   "cell_type": "code",
   "execution_count": 11,
   "metadata": {},
   "outputs": [
    {
     "name": "stderr",
     "output_type": "stream",
     "text": [
      "C:\\Users\\clock\\AppData\\Local\\Temp\\ipykernel_11052\\1434262782.py:1: DtypeWarning: Columns (0) have mixed types. Specify dtype option on import or set low_memory=False.\n",
      "  sdf = pd.read_csv(sierra_fh, header=0, sep=\"\\t\", names=[\"oclcNo\", \"leader\", \"t008\", \"bibNo\", \"matType\"])\n"
     ]
    }
   ],
   "source": [
    "sdf = pd.read_csv(sierra_fh, header=0, sep=\"\\t\", names=[\"oclcNo\", \"leader\", \"t008\", \"bibNo\", \"matType\"])"
   ]
  },
  {
   "cell_type": "code",
   "execution_count": 12,
   "metadata": {},
   "outputs": [
    {
     "data": {
      "text/plain": [
       "340218"
      ]
     },
     "execution_count": 12,
     "metadata": {},
     "output_type": "execute_result"
    }
   ],
   "source": [
    "sdf.shape[0]"
   ]
  },
  {
   "cell_type": "code",
   "execution_count": 13,
   "metadata": {},
   "outputs": [],
   "source": [
    "odf = pd.read_csv(oclc_fh, header=0, sep=\"\\t\", names=[\"oclcNo\", \"leader\", \"t008\"])"
   ]
  },
  {
   "cell_type": "code",
   "execution_count": 14,
   "metadata": {},
   "outputs": [
    {
     "data": {
      "text/plain": [
       "182631"
      ]
     },
     "execution_count": 14,
     "metadata": {},
     "output_type": "execute_result"
    }
   ],
   "source": [
    "odf.shape[0]"
   ]
  },
  {
   "cell_type": "code",
   "execution_count": 15,
   "metadata": {},
   "outputs": [],
   "source": [
    "df = pd.merge(sdf, odf, how=\"outer\", on=\"oclcNo\", indicator=True)"
   ]
  },
  {
   "cell_type": "code",
   "execution_count": 16,
   "metadata": {},
   "outputs": [
    {
     "data": {
      "text/plain": [
       "507364"
      ]
     },
     "execution_count": 16,
     "metadata": {},
     "output_type": "execute_result"
    }
   ],
   "source": [
    "df.shape[0]"
   ]
  },
  {
   "cell_type": "code",
   "execution_count": 17,
   "metadata": {},
   "outputs": [
    {
     "data": {
      "text/html": [
       "<div>\n",
       "<style scoped>\n",
       "    .dataframe tbody tr th:only-of-type {\n",
       "        vertical-align: middle;\n",
       "    }\n",
       "\n",
       "    .dataframe tbody tr th {\n",
       "        vertical-align: top;\n",
       "    }\n",
       "\n",
       "    .dataframe thead th {\n",
       "        text-align: right;\n",
       "    }\n",
       "</style>\n",
       "<table border=\"1\" class=\"dataframe\">\n",
       "  <thead>\n",
       "    <tr style=\"text-align: right;\">\n",
       "      <th></th>\n",
       "      <th>oclcNo</th>\n",
       "      <th>leader_x</th>\n",
       "      <th>t008_x</th>\n",
       "      <th>bibNo</th>\n",
       "      <th>matType</th>\n",
       "      <th>leader_y</th>\n",
       "      <th>t008_y</th>\n",
       "      <th>_merge</th>\n",
       "    </tr>\n",
       "  </thead>\n",
       "  <tbody>\n",
       "    <tr>\n",
       "      <th>0</th>\n",
       "      <td>1503869</td>\n",
       "      <td>02163cas a2200529 a 4500</td>\n",
       "      <td>760714c19759999dcuar1\\\\\\\\\\\\\\f0\\\\\\a0eng\\d</td>\n",
       "      <td>b151163029</td>\n",
       "      <td>a</td>\n",
       "      <td>NaN</td>\n",
       "      <td>NaN</td>\n",
       "      <td>left_only</td>\n",
       "    </tr>\n",
       "    <tr>\n",
       "      <th>1</th>\n",
       "      <td>1787213</td>\n",
       "      <td>02199cas a2200541 a 4500</td>\n",
       "      <td>730925c19uu9999wyuar1\\\\\\\\\\\\\\f0\\\\\\a0eng\\\\</td>\n",
       "      <td>b15116504x</td>\n",
       "      <td>a</td>\n",
       "      <td>NaN</td>\n",
       "      <td>NaN</td>\n",
       "      <td>left_only</td>\n",
       "    </tr>\n",
       "    <tr>\n",
       "      <th>2</th>\n",
       "      <td>1788019</td>\n",
       "      <td>02549nas a2200517 a 4500</td>\n",
       "      <td>750626u19uu9999gau\\x1\\\\\\s\\\\\\f0\\\\\\a0eng\\\\</td>\n",
       "      <td>b151165051</td>\n",
       "      <td>a</td>\n",
       "      <td>NaN</td>\n",
       "      <td>NaN</td>\n",
       "      <td>left_only</td>\n",
       "    </tr>\n",
       "    <tr>\n",
       "      <th>3</th>\n",
       "      <td>1798266</td>\n",
       "      <td>02229cas a2200529 a 4500</td>\n",
       "      <td>750415c19739999dcuar1\\\\\\\\s\\\\f0\\\\\\a0eng\\\\</td>\n",
       "      <td>b151165063</td>\n",
       "      <td>a</td>\n",
       "      <td>NaN</td>\n",
       "      <td>NaN</td>\n",
       "      <td>left_only</td>\n",
       "    </tr>\n",
       "    <tr>\n",
       "      <th>4</th>\n",
       "      <td>2244484</td>\n",
       "      <td>02476cas a2200541 a 4500</td>\n",
       "      <td>760127c19629999dcuar1\\\\\\s\\\\\\f0\\\\\\a0eng\\\\</td>\n",
       "      <td>b151165075</td>\n",
       "      <td>a</td>\n",
       "      <td>NaN</td>\n",
       "      <td>NaN</td>\n",
       "      <td>left_only</td>\n",
       "    </tr>\n",
       "  </tbody>\n",
       "</table>\n",
       "</div>"
      ],
      "text/plain": [
       "    oclcNo                  leader_x  \\\n",
       "0  1503869  02163cas a2200529 a 4500   \n",
       "1  1787213  02199cas a2200541 a 4500   \n",
       "2  1788019  02549nas a2200517 a 4500   \n",
       "3  1798266  02229cas a2200529 a 4500   \n",
       "4  2244484  02476cas a2200541 a 4500   \n",
       "\n",
       "                                     t008_x       bibNo matType leader_y  \\\n",
       "0  760714c19759999dcuar1\\\\\\\\\\\\\\f0\\\\\\a0eng\\d  b151163029       a      NaN   \n",
       "1  730925c19uu9999wyuar1\\\\\\\\\\\\\\f0\\\\\\a0eng\\\\  b15116504x       a      NaN   \n",
       "2  750626u19uu9999gau\\x1\\\\\\s\\\\\\f0\\\\\\a0eng\\\\  b151165051       a      NaN   \n",
       "3  750415c19739999dcuar1\\\\\\\\s\\\\f0\\\\\\a0eng\\\\  b151165063       a      NaN   \n",
       "4  760127c19629999dcuar1\\\\\\s\\\\\\f0\\\\\\a0eng\\\\  b151165075       a      NaN   \n",
       "\n",
       "  t008_y     _merge  \n",
       "0    NaN  left_only  \n",
       "1    NaN  left_only  \n",
       "2    NaN  left_only  \n",
       "3    NaN  left_only  \n",
       "4    NaN  left_only  "
      ]
     },
     "execution_count": 17,
     "metadata": {},
     "output_type": "execute_result"
    }
   ],
   "source": [
    "df.head()"
   ]
  },
  {
   "cell_type": "code",
   "execution_count": 18,
   "metadata": {},
   "outputs": [],
   "source": [
    "bdf = df[df[\"_merge\"] == \"both\"]"
   ]
  },
  {
   "cell_type": "code",
   "execution_count": 19,
   "metadata": {},
   "outputs": [
    {
     "data": {
      "text/plain": [
       "15485"
      ]
     },
     "execution_count": 19,
     "metadata": {},
     "output_type": "execute_result"
    }
   ],
   "source": [
    "bdf.shape[0]"
   ]
  },
  {
   "cell_type": "code",
   "execution_count": 20,
   "metadata": {},
   "outputs": [
    {
     "data": {
      "text/html": [
       "<div>\n",
       "<style scoped>\n",
       "    .dataframe tbody tr th:only-of-type {\n",
       "        vertical-align: middle;\n",
       "    }\n",
       "\n",
       "    .dataframe tbody tr th {\n",
       "        vertical-align: top;\n",
       "    }\n",
       "\n",
       "    .dataframe thead th {\n",
       "        text-align: right;\n",
       "    }\n",
       "</style>\n",
       "<table border=\"1\" class=\"dataframe\">\n",
       "  <thead>\n",
       "    <tr style=\"text-align: right;\">\n",
       "      <th></th>\n",
       "      <th>oclcNo</th>\n",
       "      <th>leader_x</th>\n",
       "      <th>t008_x</th>\n",
       "      <th>bibNo</th>\n",
       "      <th>matType</th>\n",
       "      <th>leader_y</th>\n",
       "      <th>t008_y</th>\n",
       "      <th>_merge</th>\n",
       "    </tr>\n",
       "  </thead>\n",
       "  <tbody>\n",
       "    <tr>\n",
       "      <th>43354</th>\n",
       "      <td>31204277</td>\n",
       "      <td>01948cam a2200481 i 4500</td>\n",
       "      <td>940930s1985\\\\\\\\cau\\\\\\\\\\ob\\\\\\f000\\0\\eng\\d</td>\n",
       "      <td>b151666969</td>\n",
       "      <td>w</td>\n",
       "      <td>02443cam a2200517 i 4500</td>\n",
       "      <td>940930s1985\\\\\\\\cau\\\\\\\\\\ob\\\\\\f000\\0\\eng\\d</td>\n",
       "      <td>both</td>\n",
       "    </tr>\n",
       "    <tr>\n",
       "      <th>52781</th>\n",
       "      <td>32481658</td>\n",
       "      <td>02676cas a2200685 a 4500</td>\n",
       "      <td>950516d20112011dcu\\x\\pso\\\\\\\\f0\\\\\\a0eng\\\\</td>\n",
       "      <td>b150196726</td>\n",
       "      <td>w</td>\n",
       "      <td>03415cas a2200817 a 4500</td>\n",
       "      <td>950516d19722011dcu\\x\\pso\\\\\\\\f0\\\\\\a0eng\\\\</td>\n",
       "      <td>both</td>\n",
       "    </tr>\n",
       "    <tr>\n",
       "      <th>53095</th>\n",
       "      <td>32524223</td>\n",
       "      <td>02251cas a2200553 a 4500</td>\n",
       "      <td>950523c19uu9999dcumr\\pss\\\\\\\\f0\\\\\\\\0eng\\d</td>\n",
       "      <td>b150481809</td>\n",
       "      <td>w</td>\n",
       "      <td>02474cas a2200565 a 4500</td>\n",
       "      <td>950523c19uu9999dcumr\\pso\\\\\\\\f0\\\\\\\\0eng\\c</td>\n",
       "      <td>both</td>\n",
       "    </tr>\n",
       "    <tr>\n",
       "      <th>54973</th>\n",
       "      <td>32821875</td>\n",
       "      <td>02205nmm a2200481 a 4500</td>\n",
       "      <td>950607m19959999dcu\\\\\\\\\\\\\\\\j\\f\\\\\\\\\\\\eng\\\\</td>\n",
       "      <td>b145654680</td>\n",
       "      <td>w</td>\n",
       "      <td>05283cmm a2200733 a 4500</td>\n",
       "      <td>950607m19959999dcu\\\\\\\\\\o\\\\j\\\\\\\\\\\\\\\\eng\\\\</td>\n",
       "      <td>both</td>\n",
       "    </tr>\n",
       "    <tr>\n",
       "      <th>60741</th>\n",
       "      <td>33979727</td>\n",
       "      <td>03512cas a2200829 a 4500</td>\n",
       "      <td>960102c19959999caumr\\pso\\\\\\\\f0\\\\\\a0eng\\c</td>\n",
       "      <td>b15274986x</td>\n",
       "      <td>w</td>\n",
       "      <td>04011cas a2200913 a 4500</td>\n",
       "      <td>960102c19959999caubr\\pso\\\\\\\\f0\\\\\\a0eng\\c</td>\n",
       "      <td>both</td>\n",
       "    </tr>\n",
       "  </tbody>\n",
       "</table>\n",
       "</div>"
      ],
      "text/plain": [
       "         oclcNo                  leader_x  \\\n",
       "43354  31204277  01948cam a2200481 i 4500   \n",
       "52781  32481658  02676cas a2200685 a 4500   \n",
       "53095  32524223  02251cas a2200553 a 4500   \n",
       "54973  32821875  02205nmm a2200481 a 4500   \n",
       "60741  33979727  03512cas a2200829 a 4500   \n",
       "\n",
       "                                         t008_x       bibNo matType  \\\n",
       "43354  940930s1985\\\\\\\\cau\\\\\\\\\\ob\\\\\\f000\\0\\eng\\d  b151666969       w   \n",
       "52781  950516d20112011dcu\\x\\pso\\\\\\\\f0\\\\\\a0eng\\\\  b150196726       w   \n",
       "53095  950523c19uu9999dcumr\\pss\\\\\\\\f0\\\\\\\\0eng\\d  b150481809       w   \n",
       "54973  950607m19959999dcu\\\\\\\\\\\\\\\\j\\f\\\\\\\\\\\\eng\\\\  b145654680       w   \n",
       "60741  960102c19959999caumr\\pso\\\\\\\\f0\\\\\\a0eng\\c  b15274986x       w   \n",
       "\n",
       "                       leader_y                                    t008_y  \\\n",
       "43354  02443cam a2200517 i 4500  940930s1985\\\\\\\\cau\\\\\\\\\\ob\\\\\\f000\\0\\eng\\d   \n",
       "52781  03415cas a2200817 a 4500  950516d19722011dcu\\x\\pso\\\\\\\\f0\\\\\\a0eng\\\\   \n",
       "53095  02474cas a2200565 a 4500  950523c19uu9999dcumr\\pso\\\\\\\\f0\\\\\\\\0eng\\c   \n",
       "54973  05283cmm a2200733 a 4500  950607m19959999dcu\\\\\\\\\\o\\\\j\\\\\\\\\\\\\\\\eng\\\\   \n",
       "60741  04011cas a2200913 a 4500  960102c19959999caubr\\pso\\\\\\\\f0\\\\\\a0eng\\c   \n",
       "\n",
       "      _merge  \n",
       "43354   both  \n",
       "52781   both  \n",
       "53095   both  \n",
       "54973   both  \n",
       "60741   both  "
      ]
     },
     "execution_count": 20,
     "metadata": {},
     "output_type": "execute_result"
    }
   ],
   "source": [
    "bdf.head()"
   ]
  },
  {
   "cell_type": "code",
   "execution_count": 25,
   "metadata": {},
   "outputs": [],
   "source": [
    "sierra_eres = df[(df[\"matType\"] == \"w\") & (df[\"_merge\"] == \"left_only\")]"
   ]
  },
  {
   "cell_type": "code",
   "execution_count": 26,
   "metadata": {},
   "outputs": [
    {
     "data": {
      "text/plain": [
       "179535"
      ]
     },
     "execution_count": 26,
     "metadata": {},
     "output_type": "execute_result"
    }
   ],
   "source": [
    "sierra_eres.shape[0]"
   ]
  },
  {
   "cell_type": "code",
   "execution_count": 27,
   "metadata": {},
   "outputs": [
    {
     "data": {
      "text/html": [
       "<div>\n",
       "<style scoped>\n",
       "    .dataframe tbody tr th:only-of-type {\n",
       "        vertical-align: middle;\n",
       "    }\n",
       "\n",
       "    .dataframe tbody tr th {\n",
       "        vertical-align: top;\n",
       "    }\n",
       "\n",
       "    .dataframe thead th {\n",
       "        text-align: right;\n",
       "    }\n",
       "</style>\n",
       "<table border=\"1\" class=\"dataframe\">\n",
       "  <thead>\n",
       "    <tr style=\"text-align: right;\">\n",
       "      <th></th>\n",
       "      <th>oclcNo</th>\n",
       "      <th>leader_x</th>\n",
       "      <th>t008_x</th>\n",
       "      <th>bibNo</th>\n",
       "      <th>matType</th>\n",
       "      <th>leader_y</th>\n",
       "      <th>t008_y</th>\n",
       "      <th>_merge</th>\n",
       "    </tr>\n",
       "  </thead>\n",
       "  <tbody>\n",
       "    <tr>\n",
       "      <th>50</th>\n",
       "      <td>7541215</td>\n",
       "      <td>02040nas a2200517 a 4500</td>\n",
       "      <td>810630c1uuu9999dcu\\x\\m\\\\\\l\\\\f0\\\\\\\\0eng\\d</td>\n",
       "      <td>b151233299</td>\n",
       "      <td>w</td>\n",
       "      <td>NaN</td>\n",
       "      <td>NaN</td>\n",
       "      <td>left_only</td>\n",
       "    </tr>\n",
       "    <tr>\n",
       "      <th>1077</th>\n",
       "      <td>17105385</td>\n",
       "      <td>02449nam a2200553 a 4500</td>\n",
       "      <td>871014s1986\\\\\\\\dcua\\\\\\\\\\\\\\\\\\f000\\0\\eng\\\\</td>\n",
       "      <td>b158188342</td>\n",
       "      <td>w</td>\n",
       "      <td>NaN</td>\n",
       "      <td>NaN</td>\n",
       "      <td>left_only</td>\n",
       "    </tr>\n",
       "    <tr>\n",
       "      <th>24029</th>\n",
       "      <td>28123016</td>\n",
       "      <td>01714nas a2200469 a 4500</td>\n",
       "      <td>930518c19uu9999dcu\\x\\\\\\b\\\\\\\\f0\\\\\\\\0eng\\d</td>\n",
       "      <td>b151196370</td>\n",
       "      <td>w</td>\n",
       "      <td>NaN</td>\n",
       "      <td>NaN</td>\n",
       "      <td>left_only</td>\n",
       "    </tr>\n",
       "    <tr>\n",
       "      <th>29686</th>\n",
       "      <td>28909617</td>\n",
       "      <td>02178nmm a2200433Ia 4500</td>\n",
       "      <td>930929s1992\\\\\\\\dcun\\\\\\\\q\\\\u\\f\\\\\\\\\\\\eng\\d</td>\n",
       "      <td>b233164753</td>\n",
       "      <td>w</td>\n",
       "      <td>NaN</td>\n",
       "      <td>NaN</td>\n",
       "      <td>left_only</td>\n",
       "    </tr>\n",
       "    <tr>\n",
       "      <th>33086</th>\n",
       "      <td>29540853</td>\n",
       "      <td>03241nmm a2200529 a 4500</td>\n",
       "      <td>931222s1992\\\\\\\\dcu\\\\\\\\\\q\\\\a\\f\\\\\\\\\\\\zxx\\d</td>\n",
       "      <td>b232922652</td>\n",
       "      <td>w</td>\n",
       "      <td>NaN</td>\n",
       "      <td>NaN</td>\n",
       "      <td>left_only</td>\n",
       "    </tr>\n",
       "  </tbody>\n",
       "</table>\n",
       "</div>"
      ],
      "text/plain": [
       "         oclcNo                  leader_x  \\\n",
       "50      7541215  02040nas a2200517 a 4500   \n",
       "1077   17105385  02449nam a2200553 a 4500   \n",
       "24029  28123016  01714nas a2200469 a 4500   \n",
       "29686  28909617  02178nmm a2200433Ia 4500   \n",
       "33086  29540853  03241nmm a2200529 a 4500   \n",
       "\n",
       "                                         t008_x       bibNo matType leader_y  \\\n",
       "50     810630c1uuu9999dcu\\x\\m\\\\\\l\\\\f0\\\\\\\\0eng\\d  b151233299       w      NaN   \n",
       "1077   871014s1986\\\\\\\\dcua\\\\\\\\\\\\\\\\\\f000\\0\\eng\\\\  b158188342       w      NaN   \n",
       "24029  930518c19uu9999dcu\\x\\\\\\b\\\\\\\\f0\\\\\\\\0eng\\d  b151196370       w      NaN   \n",
       "29686  930929s1992\\\\\\\\dcun\\\\\\\\q\\\\u\\f\\\\\\\\\\\\eng\\d  b233164753       w      NaN   \n",
       "33086  931222s1992\\\\\\\\dcu\\\\\\\\\\q\\\\a\\f\\\\\\\\\\\\zxx\\d  b232922652       w      NaN   \n",
       "\n",
       "      t008_y     _merge  \n",
       "50       NaN  left_only  \n",
       "1077     NaN  left_only  \n",
       "24029    NaN  left_only  \n",
       "29686    NaN  left_only  \n",
       "33086    NaN  left_only  "
      ]
     },
     "execution_count": 27,
     "metadata": {},
     "output_type": "execute_result"
    }
   ],
   "source": [
    "sierra_eres.head()"
   ]
  }
 ],
 "metadata": {
  "kernelspec": {
   "display_name": ".venv",
   "language": "python",
   "name": "python3"
  },
  "language_info": {
   "codemirror_mode": {
    "name": "ipython",
    "version": 3
   },
   "file_extension": ".py",
   "mimetype": "text/x-python",
   "name": "python",
   "nbconvert_exporter": "python",
   "pygments_lexer": "ipython3",
   "version": "3.12.6"
  }
 },
 "nbformat": 4,
 "nbformat_minor": 2
}
