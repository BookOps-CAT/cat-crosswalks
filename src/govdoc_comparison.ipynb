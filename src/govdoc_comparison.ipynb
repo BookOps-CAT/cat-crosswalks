{
 "cells": [
  {
   "cell_type": "code",
   "execution_count": 34,
   "metadata": {},
   "outputs": [],
   "source": [
    "import pandas as pd"
   ]
  },
  {
   "cell_type": "code",
   "execution_count": 35,
   "metadata": {},
   "outputs": [],
   "source": [
    "sierra_fh = \"files/GovDocs/private/GovDocs-Sierra-oclcNos.txt\"\n",
    "oclc_fh = \"files/GovDocs/private/GovDocs-OCLC-oclcNos.txt\""
   ]
  },
  {
   "cell_type": "code",
   "execution_count": 36,
   "metadata": {},
   "outputs": [],
   "source": [
    "sdf = pd.read_csv(sierra_fh, header=0, sep=\"\\t\", names=[\"oclcNo\", \"leader\", \"t008\", \"bibNo\", \"matType\"], dtype={\"oclcNo\": str})"
   ]
  },
  {
   "cell_type": "code",
   "execution_count": 37,
   "metadata": {},
   "outputs": [
    {
     "data": {
      "text/plain": [
       "340218"
      ]
     },
     "execution_count": 37,
     "metadata": {},
     "output_type": "execute_result"
    }
   ],
   "source": [
    "sdf.shape[0]"
   ]
  },
  {
   "cell_type": "code",
   "execution_count": 38,
   "metadata": {},
   "outputs": [],
   "source": [
    "odf = pd.read_csv(oclc_fh, header=0, sep=\"\\t\", names=[\"oclcNo\", \"leader\", \"t008\"], dtype={\"oclcNo\": str})"
   ]
  },
  {
   "cell_type": "code",
   "execution_count": 39,
   "metadata": {},
   "outputs": [
    {
     "data": {
      "text/plain": [
       "182631"
      ]
     },
     "execution_count": 39,
     "metadata": {},
     "output_type": "execute_result"
    }
   ],
   "source": [
    "odf.shape[0]"
   ]
  },
  {
   "cell_type": "code",
   "execution_count": 40,
   "metadata": {},
   "outputs": [],
   "source": [
    "df = pd.merge(sdf, odf, how=\"outer\", on=\"oclcNo\", indicator=True)"
   ]
  },
  {
   "cell_type": "code",
   "execution_count": 41,
   "metadata": {},
   "outputs": [
    {
     "data": {
      "text/plain": [
       "369830"
      ]
     },
     "execution_count": 41,
     "metadata": {},
     "output_type": "execute_result"
    }
   ],
   "source": [
    "df.shape[0]"
   ]
  },
  {
   "cell_type": "code",
   "execution_count": 42,
   "metadata": {},
   "outputs": [
    {
     "data": {
      "text/html": [
       "<div>\n",
       "<style scoped>\n",
       "    .dataframe tbody tr th:only-of-type {\n",
       "        vertical-align: middle;\n",
       "    }\n",
       "\n",
       "    .dataframe tbody tr th {\n",
       "        vertical-align: top;\n",
       "    }\n",
       "\n",
       "    .dataframe thead th {\n",
       "        text-align: right;\n",
       "    }\n",
       "</style>\n",
       "<table border=\"1\" class=\"dataframe\">\n",
       "  <thead>\n",
       "    <tr style=\"text-align: right;\">\n",
       "      <th></th>\n",
       "      <th>oclcNo</th>\n",
       "      <th>leader_x</th>\n",
       "      <th>t008_x</th>\n",
       "      <th>bibNo</th>\n",
       "      <th>matType</th>\n",
       "      <th>leader_y</th>\n",
       "      <th>t008_y</th>\n",
       "      <th>_merge</th>\n",
       "    </tr>\n",
       "  </thead>\n",
       "  <tbody>\n",
       "    <tr>\n",
       "      <th>0</th>\n",
       "      <td>100000459</td>\n",
       "      <td>02200cam a2200445Ka 4500</td>\n",
       "      <td>070329s2007\\\\\\\\wyu\\\\\\\\\\o\\\\\\\\f000\\0\\eng\\d</td>\n",
       "      <td>b165487732</td>\n",
       "      <td>w</td>\n",
       "      <td>02938cam a2200565 a 4500</td>\n",
       "      <td>070329s2007\\\\\\\\wyu\\\\\\\\\\o\\\\\\\\f000\\0\\eng\\d</td>\n",
       "      <td>both</td>\n",
       "    </tr>\n",
       "    <tr>\n",
       "      <th>1</th>\n",
       "      <td>100000715</td>\n",
       "      <td>01835cam a2200445Ia 4500</td>\n",
       "      <td>070329s2007\\\\\\\\mdu\\\\\\\\\\o\\\\\\\\f000\\0\\eng\\\\</td>\n",
       "      <td>b170354271</td>\n",
       "      <td>w</td>\n",
       "      <td>02357cam a2200481 a 4500</td>\n",
       "      <td>070329s2007\\\\\\\\mdu\\\\\\\\\\o\\\\\\\\f000\\0\\eng\\\\</td>\n",
       "      <td>both</td>\n",
       "    </tr>\n",
       "    <tr>\n",
       "      <th>2</th>\n",
       "      <td>1000028314</td>\n",
       "      <td>NaN</td>\n",
       "      <td>NaN</td>\n",
       "      <td>NaN</td>\n",
       "      <td>NaN</td>\n",
       "      <td>02136cai a2200505 i 4500</td>\n",
       "      <td>170808c201u9999mdu\\x\\w\\o\\\\\\\\f0\\\\\\\\2eng\\c</td>\n",
       "      <td>right_only</td>\n",
       "    </tr>\n",
       "    <tr>\n",
       "      <th>3</th>\n",
       "      <td>1000043130</td>\n",
       "      <td>NaN</td>\n",
       "      <td>NaN</td>\n",
       "      <td>NaN</td>\n",
       "      <td>NaN</td>\n",
       "      <td>04257cam a2200721 i 4500</td>\n",
       "      <td>170808e200012\\\\ncua\\\\\\\\obt\\\\f000\\0\\eng\\c</td>\n",
       "      <td>right_only</td>\n",
       "    </tr>\n",
       "    <tr>\n",
       "      <th>4</th>\n",
       "      <td>1000048890</td>\n",
       "      <td>02481cam a2200493 i 4500</td>\n",
       "      <td>170808s2017\\\\\\\\dcu\\\\\\\\\\ob\\\\\\f000\\0\\eng\\c</td>\n",
       "      <td>b21348707x</td>\n",
       "      <td>w</td>\n",
       "      <td>03069cam a2200589 i 4500</td>\n",
       "      <td>170808s2017\\\\\\\\dcu\\\\\\\\\\ob\\\\\\f000\\0\\eng\\c</td>\n",
       "      <td>both</td>\n",
       "    </tr>\n",
       "  </tbody>\n",
       "</table>\n",
       "</div>"
      ],
      "text/plain": [
       "       oclcNo                  leader_x  \\\n",
       "0   100000459  02200cam a2200445Ka 4500   \n",
       "1   100000715  01835cam a2200445Ia 4500   \n",
       "2  1000028314                       NaN   \n",
       "3  1000043130                       NaN   \n",
       "4  1000048890  02481cam a2200493 i 4500   \n",
       "\n",
       "                                     t008_x       bibNo matType  \\\n",
       "0  070329s2007\\\\\\\\wyu\\\\\\\\\\o\\\\\\\\f000\\0\\eng\\d  b165487732       w   \n",
       "1  070329s2007\\\\\\\\mdu\\\\\\\\\\o\\\\\\\\f000\\0\\eng\\\\  b170354271       w   \n",
       "2                                       NaN         NaN     NaN   \n",
       "3                                       NaN         NaN     NaN   \n",
       "4  170808s2017\\\\\\\\dcu\\\\\\\\\\ob\\\\\\f000\\0\\eng\\c  b21348707x       w   \n",
       "\n",
       "                   leader_y                                    t008_y  \\\n",
       "0  02938cam a2200565 a 4500  070329s2007\\\\\\\\wyu\\\\\\\\\\o\\\\\\\\f000\\0\\eng\\d   \n",
       "1  02357cam a2200481 a 4500  070329s2007\\\\\\\\mdu\\\\\\\\\\o\\\\\\\\f000\\0\\eng\\\\   \n",
       "2  02136cai a2200505 i 4500  170808c201u9999mdu\\x\\w\\o\\\\\\\\f0\\\\\\\\2eng\\c   \n",
       "3  04257cam a2200721 i 4500  170808e200012\\\\ncua\\\\\\\\obt\\\\f000\\0\\eng\\c   \n",
       "4  03069cam a2200589 i 4500  170808s2017\\\\\\\\dcu\\\\\\\\\\ob\\\\\\f000\\0\\eng\\c   \n",
       "\n",
       "       _merge  \n",
       "0        both  \n",
       "1        both  \n",
       "2  right_only  \n",
       "3  right_only  \n",
       "4        both  "
      ]
     },
     "execution_count": 42,
     "metadata": {},
     "output_type": "execute_result"
    }
   ],
   "source": [
    "df.head()"
   ]
  },
  {
   "cell_type": "code",
   "execution_count": 43,
   "metadata": {},
   "outputs": [],
   "source": [
    "bdf = df[df[\"_merge\"] == \"both\"]"
   ]
  },
  {
   "cell_type": "code",
   "execution_count": 44,
   "metadata": {},
   "outputs": [
    {
     "data": {
      "text/plain": [
       "153073"
      ]
     },
     "execution_count": 44,
     "metadata": {},
     "output_type": "execute_result"
    }
   ],
   "source": [
    "bdf.shape[0]"
   ]
  },
  {
   "cell_type": "code",
   "execution_count": 45,
   "metadata": {},
   "outputs": [
    {
     "data": {
      "text/html": [
       "<div>\n",
       "<style scoped>\n",
       "    .dataframe tbody tr th:only-of-type {\n",
       "        vertical-align: middle;\n",
       "    }\n",
       "\n",
       "    .dataframe tbody tr th {\n",
       "        vertical-align: top;\n",
       "    }\n",
       "\n",
       "    .dataframe thead th {\n",
       "        text-align: right;\n",
       "    }\n",
       "</style>\n",
       "<table border=\"1\" class=\"dataframe\">\n",
       "  <thead>\n",
       "    <tr style=\"text-align: right;\">\n",
       "      <th></th>\n",
       "      <th>oclcNo</th>\n",
       "      <th>leader_x</th>\n",
       "      <th>t008_x</th>\n",
       "      <th>bibNo</th>\n",
       "      <th>matType</th>\n",
       "      <th>leader_y</th>\n",
       "      <th>t008_y</th>\n",
       "      <th>_merge</th>\n",
       "    </tr>\n",
       "  </thead>\n",
       "  <tbody>\n",
       "    <tr>\n",
       "      <th>0</th>\n",
       "      <td>100000459</td>\n",
       "      <td>02200cam a2200445Ka 4500</td>\n",
       "      <td>070329s2007\\\\\\\\wyu\\\\\\\\\\o\\\\\\\\f000\\0\\eng\\d</td>\n",
       "      <td>b165487732</td>\n",
       "      <td>w</td>\n",
       "      <td>02938cam a2200565 a 4500</td>\n",
       "      <td>070329s2007\\\\\\\\wyu\\\\\\\\\\o\\\\\\\\f000\\0\\eng\\d</td>\n",
       "      <td>both</td>\n",
       "    </tr>\n",
       "    <tr>\n",
       "      <th>1</th>\n",
       "      <td>100000715</td>\n",
       "      <td>01835cam a2200445Ia 4500</td>\n",
       "      <td>070329s2007\\\\\\\\mdu\\\\\\\\\\o\\\\\\\\f000\\0\\eng\\\\</td>\n",
       "      <td>b170354271</td>\n",
       "      <td>w</td>\n",
       "      <td>02357cam a2200481 a 4500</td>\n",
       "      <td>070329s2007\\\\\\\\mdu\\\\\\\\\\o\\\\\\\\f000\\0\\eng\\\\</td>\n",
       "      <td>both</td>\n",
       "    </tr>\n",
       "    <tr>\n",
       "      <th>4</th>\n",
       "      <td>1000048890</td>\n",
       "      <td>02481cam a2200493 i 4500</td>\n",
       "      <td>170808s2017\\\\\\\\dcu\\\\\\\\\\ob\\\\\\f000\\0\\eng\\c</td>\n",
       "      <td>b21348707x</td>\n",
       "      <td>w</td>\n",
       "      <td>03069cam a2200589 i 4500</td>\n",
       "      <td>170808s2017\\\\\\\\dcu\\\\\\\\\\ob\\\\\\f000\\0\\eng\\c</td>\n",
       "      <td>both</td>\n",
       "    </tr>\n",
       "    <tr>\n",
       "      <th>5</th>\n",
       "      <td>1000048894</td>\n",
       "      <td>02318cam a2200529 i 4500</td>\n",
       "      <td>170808s2017\\\\\\\\dcua\\\\\\\\ob\\\\\\f000\\0\\eng\\c</td>\n",
       "      <td>b213487081</td>\n",
       "      <td>w</td>\n",
       "      <td>02938cam a2200637 i 4500</td>\n",
       "      <td>170808s2017\\\\\\\\dcua\\\\\\\\ob\\\\\\f000\\0\\eng\\c</td>\n",
       "      <td>both</td>\n",
       "    </tr>\n",
       "    <tr>\n",
       "      <th>6</th>\n",
       "      <td>1000049067</td>\n",
       "      <td>02604cam a2200517 i 4500</td>\n",
       "      <td>170808s2017\\\\\\\\dcu\\\\\\\\\\o\\\\\\\\f000\\0\\eng\\c</td>\n",
       "      <td>b21348710x</td>\n",
       "      <td>w</td>\n",
       "      <td>04062cam a2200709 i 4500</td>\n",
       "      <td>170808s2017\\\\\\\\dcu\\\\\\\\\\o\\\\\\\\f000\\0\\eng\\c</td>\n",
       "      <td>both</td>\n",
       "    </tr>\n",
       "  </tbody>\n",
       "</table>\n",
       "</div>"
      ],
      "text/plain": [
       "       oclcNo                  leader_x  \\\n",
       "0   100000459  02200cam a2200445Ka 4500   \n",
       "1   100000715  01835cam a2200445Ia 4500   \n",
       "4  1000048890  02481cam a2200493 i 4500   \n",
       "5  1000048894  02318cam a2200529 i 4500   \n",
       "6  1000049067  02604cam a2200517 i 4500   \n",
       "\n",
       "                                     t008_x       bibNo matType  \\\n",
       "0  070329s2007\\\\\\\\wyu\\\\\\\\\\o\\\\\\\\f000\\0\\eng\\d  b165487732       w   \n",
       "1  070329s2007\\\\\\\\mdu\\\\\\\\\\o\\\\\\\\f000\\0\\eng\\\\  b170354271       w   \n",
       "4  170808s2017\\\\\\\\dcu\\\\\\\\\\ob\\\\\\f000\\0\\eng\\c  b21348707x       w   \n",
       "5  170808s2017\\\\\\\\dcua\\\\\\\\ob\\\\\\f000\\0\\eng\\c  b213487081       w   \n",
       "6  170808s2017\\\\\\\\dcu\\\\\\\\\\o\\\\\\\\f000\\0\\eng\\c  b21348710x       w   \n",
       "\n",
       "                   leader_y                                    t008_y _merge  \n",
       "0  02938cam a2200565 a 4500  070329s2007\\\\\\\\wyu\\\\\\\\\\o\\\\\\\\f000\\0\\eng\\d   both  \n",
       "1  02357cam a2200481 a 4500  070329s2007\\\\\\\\mdu\\\\\\\\\\o\\\\\\\\f000\\0\\eng\\\\   both  \n",
       "4  03069cam a2200589 i 4500  170808s2017\\\\\\\\dcu\\\\\\\\\\ob\\\\\\f000\\0\\eng\\c   both  \n",
       "5  02938cam a2200637 i 4500  170808s2017\\\\\\\\dcua\\\\\\\\ob\\\\\\f000\\0\\eng\\c   both  \n",
       "6  04062cam a2200709 i 4500  170808s2017\\\\\\\\dcu\\\\\\\\\\o\\\\\\\\f000\\0\\eng\\c   both  "
      ]
     },
     "execution_count": 45,
     "metadata": {},
     "output_type": "execute_result"
    }
   ],
   "source": [
    "bdf.head()"
   ]
  },
  {
   "cell_type": "code",
   "execution_count": 46,
   "metadata": {},
   "outputs": [],
   "source": [
    "sierra_eres = df[(df[\"matType\"] == \"w\") & (df[\"_merge\"] == \"left_only\")]"
   ]
  },
  {
   "cell_type": "code",
   "execution_count": 47,
   "metadata": {},
   "outputs": [
    {
     "data": {
      "text/plain": [
       "42441"
      ]
     },
     "execution_count": 47,
     "metadata": {},
     "output_type": "execute_result"
    }
   ],
   "source": [
    "sierra_eres.shape[0]"
   ]
  },
  {
   "cell_type": "code",
   "execution_count": 48,
   "metadata": {},
   "outputs": [
    {
     "data": {
      "text/html": [
       "<div>\n",
       "<style scoped>\n",
       "    .dataframe tbody tr th:only-of-type {\n",
       "        vertical-align: middle;\n",
       "    }\n",
       "\n",
       "    .dataframe tbody tr th {\n",
       "        vertical-align: top;\n",
       "    }\n",
       "\n",
       "    .dataframe thead th {\n",
       "        text-align: right;\n",
       "    }\n",
       "</style>\n",
       "<table border=\"1\" class=\"dataframe\">\n",
       "  <thead>\n",
       "    <tr style=\"text-align: right;\">\n",
       "      <th></th>\n",
       "      <th>oclcNo</th>\n",
       "      <th>leader_x</th>\n",
       "      <th>t008_x</th>\n",
       "      <th>bibNo</th>\n",
       "      <th>matType</th>\n",
       "      <th>leader_y</th>\n",
       "      <th>t008_y</th>\n",
       "      <th>_merge</th>\n",
       "    </tr>\n",
       "  </thead>\n",
       "  <tbody>\n",
       "    <tr>\n",
       "      <th>28</th>\n",
       "      <td>1000055813</td>\n",
       "      <td>02659cam a2200469 i 4500</td>\n",
       "      <td>170808s2001\\\\\\\\dcua\\\\\\\\o\\\\\\\\f001\\0\\eng\\c</td>\n",
       "      <td>b213487408</td>\n",
       "      <td>w</td>\n",
       "      <td>NaN</td>\n",
       "      <td>NaN</td>\n",
       "      <td>left_only</td>\n",
       "    </tr>\n",
       "    <tr>\n",
       "      <th>76</th>\n",
       "      <td>1000155993</td>\n",
       "      <td>01816cam a2200421 i 4500</td>\n",
       "      <td>170809s2013\\\\\\\\dcua\\\\\\\\ob\\\\\\f000\\0\\eng\\c</td>\n",
       "      <td>b213487767</td>\n",
       "      <td>w</td>\n",
       "      <td>NaN</td>\n",
       "      <td>NaN</td>\n",
       "      <td>left_only</td>\n",
       "    </tr>\n",
       "    <tr>\n",
       "      <th>90</th>\n",
       "      <td>1000174735</td>\n",
       "      <td>02305cam a2200517 i 4500</td>\n",
       "      <td>170809s2013\\\\\\\\caua\\\\\\\\ob\\\\\\f000\\0\\eng\\c</td>\n",
       "      <td>b213488644</td>\n",
       "      <td>w</td>\n",
       "      <td>NaN</td>\n",
       "      <td>NaN</td>\n",
       "      <td>left_only</td>\n",
       "    </tr>\n",
       "    <tr>\n",
       "      <th>166</th>\n",
       "      <td>1000387815</td>\n",
       "      <td>02842cai a2200565Ii 4500</td>\n",
       "      <td>170811c199u9999dcu\\x\\w\\o\\\\\\\\f0\\\\\\\\2eng\\d</td>\n",
       "      <td>b214167938</td>\n",
       "      <td>w</td>\n",
       "      <td>NaN</td>\n",
       "      <td>NaN</td>\n",
       "      <td>left_only</td>\n",
       "    </tr>\n",
       "    <tr>\n",
       "      <th>249</th>\n",
       "      <td>100123824</td>\n",
       "      <td>02099nam a2200517 a 4500</td>\n",
       "      <td>070329s2007\\\\\\\\dcu\\\\\\\\\\\\\\\\\\\\f000\\0\\eng\\c</td>\n",
       "      <td>b165488529</td>\n",
       "      <td>w</td>\n",
       "      <td>NaN</td>\n",
       "      <td>NaN</td>\n",
       "      <td>left_only</td>\n",
       "    </tr>\n",
       "  </tbody>\n",
       "</table>\n",
       "</div>"
      ],
      "text/plain": [
       "         oclcNo                  leader_x  \\\n",
       "28   1000055813  02659cam a2200469 i 4500   \n",
       "76   1000155993  01816cam a2200421 i 4500   \n",
       "90   1000174735  02305cam a2200517 i 4500   \n",
       "166  1000387815  02842cai a2200565Ii 4500   \n",
       "249   100123824  02099nam a2200517 a 4500   \n",
       "\n",
       "                                       t008_x       bibNo matType leader_y  \\\n",
       "28   170808s2001\\\\\\\\dcua\\\\\\\\o\\\\\\\\f001\\0\\eng\\c  b213487408       w      NaN   \n",
       "76   170809s2013\\\\\\\\dcua\\\\\\\\ob\\\\\\f000\\0\\eng\\c  b213487767       w      NaN   \n",
       "90   170809s2013\\\\\\\\caua\\\\\\\\ob\\\\\\f000\\0\\eng\\c  b213488644       w      NaN   \n",
       "166  170811c199u9999dcu\\x\\w\\o\\\\\\\\f0\\\\\\\\2eng\\d  b214167938       w      NaN   \n",
       "249  070329s2007\\\\\\\\dcu\\\\\\\\\\\\\\\\\\\\f000\\0\\eng\\c  b165488529       w      NaN   \n",
       "\n",
       "    t008_y     _merge  \n",
       "28     NaN  left_only  \n",
       "76     NaN  left_only  \n",
       "90     NaN  left_only  \n",
       "166    NaN  left_only  \n",
       "249    NaN  left_only  "
      ]
     },
     "execution_count": 48,
     "metadata": {},
     "output_type": "execute_result"
    }
   ],
   "source": [
    "sierra_eres.head()"
   ]
  },
  {
   "cell_type": "code",
   "execution_count": 49,
   "metadata": {},
   "outputs": [
    {
     "data": {
      "text/html": [
       "<div>\n",
       "<style scoped>\n",
       "    .dataframe tbody tr th:only-of-type {\n",
       "        vertical-align: middle;\n",
       "    }\n",
       "\n",
       "    .dataframe tbody tr th {\n",
       "        vertical-align: top;\n",
       "    }\n",
       "\n",
       "    .dataframe thead th {\n",
       "        text-align: right;\n",
       "    }\n",
       "</style>\n",
       "<table border=\"1\" class=\"dataframe\">\n",
       "  <thead>\n",
       "    <tr style=\"text-align: right;\">\n",
       "      <th></th>\n",
       "      <th>oclcNo</th>\n",
       "      <th>leader_x</th>\n",
       "      <th>t008_x</th>\n",
       "      <th>bibNo</th>\n",
       "      <th>matType</th>\n",
       "      <th>leader_y</th>\n",
       "      <th>t008_y</th>\n",
       "      <th>_merge</th>\n",
       "    </tr>\n",
       "  </thead>\n",
       "  <tbody>\n",
       "    <tr>\n",
       "      <th>369706</th>\n",
       "      <td>99940450</td>\n",
       "      <td>01594cam a2200409Ka 4500</td>\n",
       "      <td>070328s2006\\\\\\\\mdu\\\\\\\\\\o\\\\\\\\f000\\0\\spa\\d</td>\n",
       "      <td>b165486120</td>\n",
       "      <td>w</td>\n",
       "      <td>NaN</td>\n",
       "      <td>NaN</td>\n",
       "      <td>left_only</td>\n",
       "    </tr>\n",
       "    <tr>\n",
       "      <th>369741</th>\n",
       "      <td>999610164</td>\n",
       "      <td>02567nam a2200505 i 4500</td>\n",
       "      <td>170804s2014\\\\\\\\caub\\\\\\\\o\\\\\\\\f000\\0\\eng\\c</td>\n",
       "      <td>b213488826</td>\n",
       "      <td>w</td>\n",
       "      <td>NaN</td>\n",
       "      <td>NaN</td>\n",
       "      <td>left_only</td>\n",
       "    </tr>\n",
       "    <tr>\n",
       "      <th>369766</th>\n",
       "      <td>99964260</td>\n",
       "      <td>01701cam a2200421Ka 4500</td>\n",
       "      <td>070328s2007\\\\\\\\mdu\\\\\\\\\\o\\\\\\\\f000\\0\\spa\\d</td>\n",
       "      <td>b165486855</td>\n",
       "      <td>w</td>\n",
       "      <td>NaN</td>\n",
       "      <td>NaN</td>\n",
       "      <td>left_only</td>\n",
       "    </tr>\n",
       "    <tr>\n",
       "      <th>369789</th>\n",
       "      <td>999728793</td>\n",
       "      <td>02085nam a2200481 i 4500</td>\n",
       "      <td>170807s2017\\\\\\\\dcu\\\\\\\\\\ob\\\\\\f000\\0\\eng\\c</td>\n",
       "      <td>b219699112</td>\n",
       "      <td>w</td>\n",
       "      <td>NaN</td>\n",
       "      <td>NaN</td>\n",
       "      <td>left_only</td>\n",
       "    </tr>\n",
       "    <tr>\n",
       "      <th>369829</th>\n",
       "      <td>99996749</td>\n",
       "      <td>02402nam a22005414a 4500</td>\n",
       "      <td>070402s2006\\\\\\\\dcu\\\\\\\\\\\\\\\\\\\\f000\\0\\eng\\c</td>\n",
       "      <td>b165488669</td>\n",
       "      <td>w</td>\n",
       "      <td>NaN</td>\n",
       "      <td>NaN</td>\n",
       "      <td>left_only</td>\n",
       "    </tr>\n",
       "  </tbody>\n",
       "</table>\n",
       "</div>"
      ],
      "text/plain": [
       "           oclcNo                  leader_x  \\\n",
       "369706   99940450  01594cam a2200409Ka 4500   \n",
       "369741  999610164  02567nam a2200505 i 4500   \n",
       "369766   99964260  01701cam a2200421Ka 4500   \n",
       "369789  999728793  02085nam a2200481 i 4500   \n",
       "369829   99996749  02402nam a22005414a 4500   \n",
       "\n",
       "                                          t008_x       bibNo matType leader_y  \\\n",
       "369706  070328s2006\\\\\\\\mdu\\\\\\\\\\o\\\\\\\\f000\\0\\spa\\d  b165486120       w      NaN   \n",
       "369741  170804s2014\\\\\\\\caub\\\\\\\\o\\\\\\\\f000\\0\\eng\\c  b213488826       w      NaN   \n",
       "369766  070328s2007\\\\\\\\mdu\\\\\\\\\\o\\\\\\\\f000\\0\\spa\\d  b165486855       w      NaN   \n",
       "369789  170807s2017\\\\\\\\dcu\\\\\\\\\\ob\\\\\\f000\\0\\eng\\c  b219699112       w      NaN   \n",
       "369829  070402s2006\\\\\\\\dcu\\\\\\\\\\\\\\\\\\\\f000\\0\\eng\\c  b165488669       w      NaN   \n",
       "\n",
       "       t008_y     _merge  \n",
       "369706    NaN  left_only  \n",
       "369741    NaN  left_only  \n",
       "369766    NaN  left_only  \n",
       "369789    NaN  left_only  \n",
       "369829    NaN  left_only  "
      ]
     },
     "execution_count": 49,
     "metadata": {},
     "output_type": "execute_result"
    }
   ],
   "source": [
    "sierra_eres.tail()"
   ]
  },
  {
   "cell_type": "code",
   "execution_count": 50,
   "metadata": {},
   "outputs": [],
   "source": [
    "oclc_only = df[df[\"_merge\"] == \"right_only\"]"
   ]
  },
  {
   "cell_type": "code",
   "execution_count": 51,
   "metadata": {},
   "outputs": [
    {
     "data": {
      "text/plain": [
       "29612"
      ]
     },
     "execution_count": 51,
     "metadata": {},
     "output_type": "execute_result"
    }
   ],
   "source": [
    "oclc_only.shape[0]"
   ]
  },
  {
   "cell_type": "code",
   "execution_count": 52,
   "metadata": {},
   "outputs": [
    {
     "data": {
      "text/html": [
       "<div>\n",
       "<style scoped>\n",
       "    .dataframe tbody tr th:only-of-type {\n",
       "        vertical-align: middle;\n",
       "    }\n",
       "\n",
       "    .dataframe tbody tr th {\n",
       "        vertical-align: top;\n",
       "    }\n",
       "\n",
       "    .dataframe thead th {\n",
       "        text-align: right;\n",
       "    }\n",
       "</style>\n",
       "<table border=\"1\" class=\"dataframe\">\n",
       "  <thead>\n",
       "    <tr style=\"text-align: right;\">\n",
       "      <th></th>\n",
       "      <th>oclcNo</th>\n",
       "      <th>leader_x</th>\n",
       "      <th>t008_x</th>\n",
       "      <th>bibNo</th>\n",
       "      <th>matType</th>\n",
       "      <th>leader_y</th>\n",
       "      <th>t008_y</th>\n",
       "      <th>_merge</th>\n",
       "    </tr>\n",
       "  </thead>\n",
       "  <tbody>\n",
       "    <tr>\n",
       "      <th>2</th>\n",
       "      <td>1000028314</td>\n",
       "      <td>NaN</td>\n",
       "      <td>NaN</td>\n",
       "      <td>NaN</td>\n",
       "      <td>NaN</td>\n",
       "      <td>02136cai a2200505 i 4500</td>\n",
       "      <td>170808c201u9999mdu\\x\\w\\o\\\\\\\\f0\\\\\\\\2eng\\c</td>\n",
       "      <td>right_only</td>\n",
       "    </tr>\n",
       "    <tr>\n",
       "      <th>3</th>\n",
       "      <td>1000043130</td>\n",
       "      <td>NaN</td>\n",
       "      <td>NaN</td>\n",
       "      <td>NaN</td>\n",
       "      <td>NaN</td>\n",
       "      <td>04257cam a2200721 i 4500</td>\n",
       "      <td>170808e200012\\\\ncua\\\\\\\\obt\\\\f000\\0\\eng\\c</td>\n",
       "      <td>right_only</td>\n",
       "    </tr>\n",
       "    <tr>\n",
       "      <th>23</th>\n",
       "      <td>1000054626</td>\n",
       "      <td>NaN</td>\n",
       "      <td>NaN</td>\n",
       "      <td>NaN</td>\n",
       "      <td>NaN</td>\n",
       "      <td>02989cam a2200637 i 4500</td>\n",
       "      <td>170808s2015\\\\\\\\oruab\\\\\\o\\\\\\\\f000\\0\\eng\\c</td>\n",
       "      <td>right_only</td>\n",
       "    </tr>\n",
       "    <tr>\n",
       "      <th>32</th>\n",
       "      <td>1000056457</td>\n",
       "      <td>NaN</td>\n",
       "      <td>NaN</td>\n",
       "      <td>NaN</td>\n",
       "      <td>NaN</td>\n",
       "      <td>03200cam a2200685 i 4500</td>\n",
       "      <td>170808s2002\\\\\\\\ncuabd\\\\ob\\\\\\f000\\0\\eng\\c</td>\n",
       "      <td>right_only</td>\n",
       "    </tr>\n",
       "    <tr>\n",
       "      <th>38</th>\n",
       "      <td>1000102944</td>\n",
       "      <td>NaN</td>\n",
       "      <td>NaN</td>\n",
       "      <td>NaN</td>\n",
       "      <td>NaN</td>\n",
       "      <td>04240cam a2200721 i 4500</td>\n",
       "      <td>170808s2017\\\\\\\\dcua\\\\\\\\o\\\\\\\\f000\\0\\eng\\d</td>\n",
       "      <td>right_only</td>\n",
       "    </tr>\n",
       "  </tbody>\n",
       "</table>\n",
       "</div>"
      ],
      "text/plain": [
       "        oclcNo leader_x t008_x bibNo matType                  leader_y  \\\n",
       "2   1000028314      NaN    NaN   NaN     NaN  02136cai a2200505 i 4500   \n",
       "3   1000043130      NaN    NaN   NaN     NaN  04257cam a2200721 i 4500   \n",
       "23  1000054626      NaN    NaN   NaN     NaN  02989cam a2200637 i 4500   \n",
       "32  1000056457      NaN    NaN   NaN     NaN  03200cam a2200685 i 4500   \n",
       "38  1000102944      NaN    NaN   NaN     NaN  04240cam a2200721 i 4500   \n",
       "\n",
       "                                      t008_y      _merge  \n",
       "2   170808c201u9999mdu\\x\\w\\o\\\\\\\\f0\\\\\\\\2eng\\c  right_only  \n",
       "3   170808e200012\\\\ncua\\\\\\\\obt\\\\f000\\0\\eng\\c  right_only  \n",
       "23  170808s2015\\\\\\\\oruab\\\\\\o\\\\\\\\f000\\0\\eng\\c  right_only  \n",
       "32  170808s2002\\\\\\\\ncuabd\\\\ob\\\\\\f000\\0\\eng\\c  right_only  \n",
       "38  170808s2017\\\\\\\\dcua\\\\\\\\o\\\\\\\\f000\\0\\eng\\d  right_only  "
      ]
     },
     "execution_count": 52,
     "metadata": {},
     "output_type": "execute_result"
    }
   ],
   "source": [
    "oclc_only.head()"
   ]
  }
 ],
 "metadata": {
  "kernelspec": {
   "display_name": ".venv",
   "language": "python",
   "name": "python3"
  },
  "language_info": {
   "codemirror_mode": {
    "name": "ipython",
    "version": 3
   },
   "file_extension": ".py",
   "mimetype": "text/x-python",
   "name": "python",
   "nbconvert_exporter": "python",
   "pygments_lexer": "ipython3",
   "version": "3.12.6"
  }
 },
 "nbformat": 4,
 "nbformat_minor": 2
}
